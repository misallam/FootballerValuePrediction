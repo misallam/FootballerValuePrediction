{
  "cells": [
    {
      "cell_type": "markdown",
      "metadata": {
        "id": "ifRssDRSAvdl"
      },
      "source": [
        "# **Installations & Packages**"
      ]
    },
    {
      "cell_type": "code",
      "execution_count": 2,
      "metadata": {
        "colab": {
          "base_uri": "https://localhost:8080/"
        },
        "id": "2gThrZGe9OU3",
        "outputId": "55f32ab6-75f0-4195-e4ab-9752c0716521"
      },
      "outputs": [
        {
          "name": "stdout",
          "output_type": "stream",
          "text": [
            "Requirement already satisfied: numpy in /usr/local/lib/python3.10/dist-packages (1.23.5)\n",
            "Requirement already satisfied: pandas in /usr/local/lib/python3.10/dist-packages (1.5.3)\n",
            "Requirement already satisfied: python-dateutil>=2.8.1 in /usr/local/lib/python3.10/dist-packages (from pandas) (2.8.2)\n",
            "Requirement already satisfied: pytz>=2020.1 in /usr/local/lib/python3.10/dist-packages (from pandas) (2023.3.post1)\n",
            "Requirement already satisfied: numpy>=1.21.0 in /usr/local/lib/python3.10/dist-packages (from pandas) (1.23.5)\n",
            "Requirement already satisfied: six>=1.5 in /usr/local/lib/python3.10/dist-packages (from python-dateutil>=2.8.1->pandas) (1.16.0)\n"
          ]
        }
      ],
      "source": [
        "! pip install numpy\n",
        "! pip install pandas"
      ]
    },
    {
      "cell_type": "markdown",
      "metadata": {
        "id": "NRN1lfWeAdja"
      },
      "source": [
        "# **DataFrame Exploration**"
      ]
    },
    {
      "cell_type": "markdown",
      "metadata": {},
      "source": [
        "### Watch a complete presentation For the EDA part via:\n",
        "https://www.canva.com/design/DAFvTZHJLBs/f8GkzJZnQegSZi9pes2GuA/edit?utm_content=DAFvTZHJLBs&utm_campaign=designshare&utm_medium=link2&utm_source=sharebutton"
      ]
    },
    {
      "cell_type": "code",
      "execution_count": 45,
      "metadata": {
        "colab": {
          "base_uri": "https://localhost:8080/",
          "height": 597
        },
        "id": "9-rO5w8uAZ4E",
        "outputId": "2c5c2b48-9dc3-44ec-d947-03922210fad5"
      },
      "outputs": [
        {
          "data": {
            "text/html": [
              "\n",
              "  <div id=\"df-1842aa87-ae9e-455c-8fda-081326efb1ac\" class=\"colab-df-container\">\n",
              "    <div>\n",
              "<style scoped>\n",
              "    .dataframe tbody tr th:only-of-type {\n",
              "        vertical-align: middle;\n",
              "    }\n",
              "\n",
              "    .dataframe tbody tr th {\n",
              "        vertical-align: top;\n",
              "    }\n",
              "\n",
              "    .dataframe thead th {\n",
              "        text-align: right;\n",
              "    }\n",
              "</style>\n",
              "<table border=\"1\" class=\"dataframe\">\n",
              "  <thead>\n",
              "    <tr style=\"text-align: right;\">\n",
              "      <th></th>\n",
              "      <th>ID</th>\n",
              "      <th>Name</th>\n",
              "      <th>Age</th>\n",
              "      <th>Nationality</th>\n",
              "      <th>Overall</th>\n",
              "      <th>Potential</th>\n",
              "      <th>Club</th>\n",
              "      <th>Value</th>\n",
              "      <th>Wage</th>\n",
              "      <th>Preferred Foot</th>\n",
              "      <th>International Reputation</th>\n",
              "      <th>Skill Moves</th>\n",
              "      <th>Position</th>\n",
              "      <th>Joined</th>\n",
              "      <th>Contract Valid Until</th>\n",
              "      <th>Height</th>\n",
              "      <th>Weight</th>\n",
              "      <th>Release Clause</th>\n",
              "    </tr>\n",
              "  </thead>\n",
              "  <tbody>\n",
              "    <tr>\n",
              "      <th>0</th>\n",
              "      <td>158023</td>\n",
              "      <td>L. Messi</td>\n",
              "      <td>31</td>\n",
              "      <td>Argentina</td>\n",
              "      <td>94</td>\n",
              "      <td>94</td>\n",
              "      <td>FC Barcelona</td>\n",
              "      <td>110500.0</td>\n",
              "      <td>565.0</td>\n",
              "      <td>Left</td>\n",
              "      <td>5.0</td>\n",
              "      <td>4.0</td>\n",
              "      <td>RF</td>\n",
              "      <td>2004</td>\n",
              "      <td>2021-01-01</td>\n",
              "      <td>5.583333</td>\n",
              "      <td>159.0</td>\n",
              "      <td>226500.0</td>\n",
              "    </tr>\n",
              "    <tr>\n",
              "      <th>1</th>\n",
              "      <td>20801</td>\n",
              "      <td>Cristiano Ronaldo</td>\n",
              "      <td>33</td>\n",
              "      <td>Portugal</td>\n",
              "      <td>94</td>\n",
              "      <td>94</td>\n",
              "      <td>Juventus</td>\n",
              "      <td>77000.0</td>\n",
              "      <td>405.0</td>\n",
              "      <td>Right</td>\n",
              "      <td>5.0</td>\n",
              "      <td>5.0</td>\n",
              "      <td>ST</td>\n",
              "      <td>2018</td>\n",
              "      <td>2022-01-01</td>\n",
              "      <td>6.166667</td>\n",
              "      <td>183.0</td>\n",
              "      <td>127100.0</td>\n",
              "    </tr>\n",
              "    <tr>\n",
              "      <th>2</th>\n",
              "      <td>190871</td>\n",
              "      <td>Neymar Jr</td>\n",
              "      <td>26</td>\n",
              "      <td>Brazil</td>\n",
              "      <td>92</td>\n",
              "      <td>93</td>\n",
              "      <td>Paris Saint-Germain</td>\n",
              "      <td>118500.0</td>\n",
              "      <td>290.0</td>\n",
              "      <td>Right</td>\n",
              "      <td>5.0</td>\n",
              "      <td>5.0</td>\n",
              "      <td>LW</td>\n",
              "      <td>2017</td>\n",
              "      <td>2022-01-01</td>\n",
              "      <td>5.750000</td>\n",
              "      <td>150.0</td>\n",
              "      <td>228100.0</td>\n",
              "    </tr>\n",
              "    <tr>\n",
              "      <th>3</th>\n",
              "      <td>193080</td>\n",
              "      <td>De Gea</td>\n",
              "      <td>27</td>\n",
              "      <td>Spain</td>\n",
              "      <td>91</td>\n",
              "      <td>93</td>\n",
              "      <td>Manchester United</td>\n",
              "      <td>72000.0</td>\n",
              "      <td>260.0</td>\n",
              "      <td>Right</td>\n",
              "      <td>4.0</td>\n",
              "      <td>1.0</td>\n",
              "      <td>GK</td>\n",
              "      <td>2011</td>\n",
              "      <td>2020-01-01</td>\n",
              "      <td>6.333333</td>\n",
              "      <td>168.0</td>\n",
              "      <td>138600.0</td>\n",
              "    </tr>\n",
              "    <tr>\n",
              "      <th>4</th>\n",
              "      <td>192985</td>\n",
              "      <td>K. De Bruyne</td>\n",
              "      <td>27</td>\n",
              "      <td>Belgium</td>\n",
              "      <td>91</td>\n",
              "      <td>92</td>\n",
              "      <td>Manchester City</td>\n",
              "      <td>102000.0</td>\n",
              "      <td>355.0</td>\n",
              "      <td>Right</td>\n",
              "      <td>4.0</td>\n",
              "      <td>4.0</td>\n",
              "      <td>RCM</td>\n",
              "      <td>2015</td>\n",
              "      <td>2023-01-01</td>\n",
              "      <td>5.916667</td>\n",
              "      <td>154.0</td>\n",
              "      <td>196400.0</td>\n",
              "    </tr>\n",
              "    <tr>\n",
              "      <th>...</th>\n",
              "      <td>...</td>\n",
              "      <td>...</td>\n",
              "      <td>...</td>\n",
              "      <td>...</td>\n",
              "      <td>...</td>\n",
              "      <td>...</td>\n",
              "      <td>...</td>\n",
              "      <td>...</td>\n",
              "      <td>...</td>\n",
              "      <td>...</td>\n",
              "      <td>...</td>\n",
              "      <td>...</td>\n",
              "      <td>...</td>\n",
              "      <td>...</td>\n",
              "      <td>...</td>\n",
              "      <td>...</td>\n",
              "      <td>...</td>\n",
              "      <td>...</td>\n",
              "    </tr>\n",
              "    <tr>\n",
              "      <th>18202</th>\n",
              "      <td>238813</td>\n",
              "      <td>J. Lundstram</td>\n",
              "      <td>19</td>\n",
              "      <td>England</td>\n",
              "      <td>47</td>\n",
              "      <td>65</td>\n",
              "      <td>Crewe Alexandra</td>\n",
              "      <td>60.0</td>\n",
              "      <td>1.0</td>\n",
              "      <td>Right</td>\n",
              "      <td>1.0</td>\n",
              "      <td>2.0</td>\n",
              "      <td>CM</td>\n",
              "      <td>2017</td>\n",
              "      <td>2019-01-01</td>\n",
              "      <td>5.750000</td>\n",
              "      <td>134.0</td>\n",
              "      <td>143.0</td>\n",
              "    </tr>\n",
              "    <tr>\n",
              "      <th>18203</th>\n",
              "      <td>243165</td>\n",
              "      <td>N. Christoffersson</td>\n",
              "      <td>19</td>\n",
              "      <td>Sweden</td>\n",
              "      <td>47</td>\n",
              "      <td>63</td>\n",
              "      <td>Trelleborgs FF</td>\n",
              "      <td>60.0</td>\n",
              "      <td>1.0</td>\n",
              "      <td>Right</td>\n",
              "      <td>1.0</td>\n",
              "      <td>2.0</td>\n",
              "      <td>ST</td>\n",
              "      <td>2018</td>\n",
              "      <td>2020-01-01</td>\n",
              "      <td>6.250000</td>\n",
              "      <td>170.0</td>\n",
              "      <td>113.0</td>\n",
              "    </tr>\n",
              "    <tr>\n",
              "      <th>18204</th>\n",
              "      <td>241638</td>\n",
              "      <td>B. Worman</td>\n",
              "      <td>16</td>\n",
              "      <td>England</td>\n",
              "      <td>47</td>\n",
              "      <td>67</td>\n",
              "      <td>Cambridge United</td>\n",
              "      <td>60.0</td>\n",
              "      <td>1.0</td>\n",
              "      <td>Right</td>\n",
              "      <td>1.0</td>\n",
              "      <td>2.0</td>\n",
              "      <td>ST</td>\n",
              "      <td>2017</td>\n",
              "      <td>2021-01-01</td>\n",
              "      <td>5.666667</td>\n",
              "      <td>148.0</td>\n",
              "      <td>165.0</td>\n",
              "    </tr>\n",
              "    <tr>\n",
              "      <th>18205</th>\n",
              "      <td>246268</td>\n",
              "      <td>D. Walker-Rice</td>\n",
              "      <td>17</td>\n",
              "      <td>England</td>\n",
              "      <td>47</td>\n",
              "      <td>66</td>\n",
              "      <td>Tranmere Rovers</td>\n",
              "      <td>60.0</td>\n",
              "      <td>1.0</td>\n",
              "      <td>Right</td>\n",
              "      <td>1.0</td>\n",
              "      <td>2.0</td>\n",
              "      <td>RW</td>\n",
              "      <td>2018</td>\n",
              "      <td>2019-01-01</td>\n",
              "      <td>5.833333</td>\n",
              "      <td>154.0</td>\n",
              "      <td>143.0</td>\n",
              "    </tr>\n",
              "    <tr>\n",
              "      <th>18206</th>\n",
              "      <td>246269</td>\n",
              "      <td>G. Nugent</td>\n",
              "      <td>16</td>\n",
              "      <td>England</td>\n",
              "      <td>46</td>\n",
              "      <td>66</td>\n",
              "      <td>Tranmere Rovers</td>\n",
              "      <td>60.0</td>\n",
              "      <td>1.0</td>\n",
              "      <td>Right</td>\n",
              "      <td>1.0</td>\n",
              "      <td>2.0</td>\n",
              "      <td>CM</td>\n",
              "      <td>2018</td>\n",
              "      <td>2019-01-01</td>\n",
              "      <td>5.833333</td>\n",
              "      <td>176.0</td>\n",
              "      <td>165.0</td>\n",
              "    </tr>\n",
              "  </tbody>\n",
              "</table>\n",
              "<p>18207 rows × 18 columns</p>\n",
              "</div>\n",
              "    <div class=\"colab-df-buttons\">\n",
              "\n",
              "  <div class=\"colab-df-container\">\n",
              "    <button class=\"colab-df-convert\" onclick=\"convertToInteractive('df-1842aa87-ae9e-455c-8fda-081326efb1ac')\"\n",
              "            title=\"Convert this dataframe to an interactive table.\"\n",
              "            style=\"display:none;\">\n",
              "\n",
              "  <svg xmlns=\"http://www.w3.org/2000/svg\" height=\"24px\" viewBox=\"0 -960 960 960\">\n",
              "    <path d=\"M120-120v-720h720v720H120Zm60-500h600v-160H180v160Zm220 220h160v-160H400v160Zm0 220h160v-160H400v160ZM180-400h160v-160H180v160Zm440 0h160v-160H620v160ZM180-180h160v-160H180v160Zm440 0h160v-160H620v160Z\"/>\n",
              "  </svg>\n",
              "    </button>\n",
              "\n",
              "  <style>\n",
              "    .colab-df-container {\n",
              "      display:flex;\n",
              "      gap: 12px;\n",
              "    }\n",
              "\n",
              "    .colab-df-convert {\n",
              "      background-color: #E8F0FE;\n",
              "      border: none;\n",
              "      border-radius: 50%;\n",
              "      cursor: pointer;\n",
              "      display: none;\n",
              "      fill: #1967D2;\n",
              "      height: 32px;\n",
              "      padding: 0 0 0 0;\n",
              "      width: 32px;\n",
              "    }\n",
              "\n",
              "    .colab-df-convert:hover {\n",
              "      background-color: #E2EBFA;\n",
              "      box-shadow: 0px 1px 2px rgba(60, 64, 67, 0.3), 0px 1px 3px 1px rgba(60, 64, 67, 0.15);\n",
              "      fill: #174EA6;\n",
              "    }\n",
              "\n",
              "    .colab-df-buttons div {\n",
              "      margin-bottom: 4px;\n",
              "    }\n",
              "\n",
              "    [theme=dark] .colab-df-convert {\n",
              "      background-color: #3B4455;\n",
              "      fill: #D2E3FC;\n",
              "    }\n",
              "\n",
              "    [theme=dark] .colab-df-convert:hover {\n",
              "      background-color: #434B5C;\n",
              "      box-shadow: 0px 1px 3px 1px rgba(0, 0, 0, 0.15);\n",
              "      filter: drop-shadow(0px 1px 2px rgba(0, 0, 0, 0.3));\n",
              "      fill: #FFFFFF;\n",
              "    }\n",
              "  </style>\n",
              "\n",
              "    <script>\n",
              "      const buttonEl =\n",
              "        document.querySelector('#df-1842aa87-ae9e-455c-8fda-081326efb1ac button.colab-df-convert');\n",
              "      buttonEl.style.display =\n",
              "        google.colab.kernel.accessAllowed ? 'block' : 'none';\n",
              "\n",
              "      async function convertToInteractive(key) {\n",
              "        const element = document.querySelector('#df-1842aa87-ae9e-455c-8fda-081326efb1ac');\n",
              "        const dataTable =\n",
              "          await google.colab.kernel.invokeFunction('convertToInteractive',\n",
              "                                                    [key], {});\n",
              "        if (!dataTable) return;\n",
              "\n",
              "        const docLinkHtml = 'Like what you see? Visit the ' +\n",
              "          '<a target=\"_blank\" href=https://colab.research.google.com/notebooks/data_table.ipynb>data table notebook</a>'\n",
              "          + ' to learn more about interactive tables.';\n",
              "        element.innerHTML = '';\n",
              "        dataTable['output_type'] = 'display_data';\n",
              "        await google.colab.output.renderOutput(dataTable, element);\n",
              "        const docLink = document.createElement('div');\n",
              "        docLink.innerHTML = docLinkHtml;\n",
              "        element.appendChild(docLink);\n",
              "      }\n",
              "    </script>\n",
              "  </div>\n",
              "\n",
              "\n",
              "<div id=\"df-6d5db606-8318-4f62-8644-6dd0a1398d16\">\n",
              "  <button class=\"colab-df-quickchart\" onclick=\"quickchart('df-6d5db606-8318-4f62-8644-6dd0a1398d16')\"\n",
              "            title=\"Suggest charts.\"\n",
              "            style=\"display:none;\">\n",
              "\n",
              "<svg xmlns=\"http://www.w3.org/2000/svg\" height=\"24px\"viewBox=\"0 0 24 24\"\n",
              "     width=\"24px\">\n",
              "    <g>\n",
              "        <path d=\"M19 3H5c-1.1 0-2 .9-2 2v14c0 1.1.9 2 2 2h14c1.1 0 2-.9 2-2V5c0-1.1-.9-2-2-2zM9 17H7v-7h2v7zm4 0h-2V7h2v10zm4 0h-2v-4h2v4z\"/>\n",
              "    </g>\n",
              "</svg>\n",
              "  </button>\n",
              "\n",
              "<style>\n",
              "  .colab-df-quickchart {\n",
              "      --bg-color: #E8F0FE;\n",
              "      --fill-color: #1967D2;\n",
              "      --hover-bg-color: #E2EBFA;\n",
              "      --hover-fill-color: #174EA6;\n",
              "      --disabled-fill-color: #AAA;\n",
              "      --disabled-bg-color: #DDD;\n",
              "  }\n",
              "\n",
              "  [theme=dark] .colab-df-quickchart {\n",
              "      --bg-color: #3B4455;\n",
              "      --fill-color: #D2E3FC;\n",
              "      --hover-bg-color: #434B5C;\n",
              "      --hover-fill-color: #FFFFFF;\n",
              "      --disabled-bg-color: #3B4455;\n",
              "      --disabled-fill-color: #666;\n",
              "  }\n",
              "\n",
              "  .colab-df-quickchart {\n",
              "    background-color: var(--bg-color);\n",
              "    border: none;\n",
              "    border-radius: 50%;\n",
              "    cursor: pointer;\n",
              "    display: none;\n",
              "    fill: var(--fill-color);\n",
              "    height: 32px;\n",
              "    padding: 0;\n",
              "    width: 32px;\n",
              "  }\n",
              "\n",
              "  .colab-df-quickchart:hover {\n",
              "    background-color: var(--hover-bg-color);\n",
              "    box-shadow: 0 1px 2px rgba(60, 64, 67, 0.3), 0 1px 3px 1px rgba(60, 64, 67, 0.15);\n",
              "    fill: var(--button-hover-fill-color);\n",
              "  }\n",
              "\n",
              "  .colab-df-quickchart-complete:disabled,\n",
              "  .colab-df-quickchart-complete:disabled:hover {\n",
              "    background-color: var(--disabled-bg-color);\n",
              "    fill: var(--disabled-fill-color);\n",
              "    box-shadow: none;\n",
              "  }\n",
              "\n",
              "  .colab-df-spinner {\n",
              "    border: 2px solid var(--fill-color);\n",
              "    border-color: transparent;\n",
              "    border-bottom-color: var(--fill-color);\n",
              "    animation:\n",
              "      spin 1s steps(1) infinite;\n",
              "  }\n",
              "\n",
              "  @keyframes spin {\n",
              "    0% {\n",
              "      border-color: transparent;\n",
              "      border-bottom-color: var(--fill-color);\n",
              "      border-left-color: var(--fill-color);\n",
              "    }\n",
              "    20% {\n",
              "      border-color: transparent;\n",
              "      border-left-color: var(--fill-color);\n",
              "      border-top-color: var(--fill-color);\n",
              "    }\n",
              "    30% {\n",
              "      border-color: transparent;\n",
              "      border-left-color: var(--fill-color);\n",
              "      border-top-color: var(--fill-color);\n",
              "      border-right-color: var(--fill-color);\n",
              "    }\n",
              "    40% {\n",
              "      border-color: transparent;\n",
              "      border-right-color: var(--fill-color);\n",
              "      border-top-color: var(--fill-color);\n",
              "    }\n",
              "    60% {\n",
              "      border-color: transparent;\n",
              "      border-right-color: var(--fill-color);\n",
              "    }\n",
              "    80% {\n",
              "      border-color: transparent;\n",
              "      border-right-color: var(--fill-color);\n",
              "      border-bottom-color: var(--fill-color);\n",
              "    }\n",
              "    90% {\n",
              "      border-color: transparent;\n",
              "      border-bottom-color: var(--fill-color);\n",
              "    }\n",
              "  }\n",
              "</style>\n",
              "\n",
              "  <script>\n",
              "    async function quickchart(key) {\n",
              "      const quickchartButtonEl =\n",
              "        document.querySelector('#' + key + ' button');\n",
              "      quickchartButtonEl.disabled = true;  // To prevent multiple clicks.\n",
              "      quickchartButtonEl.classList.add('colab-df-spinner');\n",
              "      try {\n",
              "        const charts = await google.colab.kernel.invokeFunction(\n",
              "            'suggestCharts', [key], {});\n",
              "      } catch (error) {\n",
              "        console.error('Error during call to suggestCharts:', error);\n",
              "      }\n",
              "      quickchartButtonEl.classList.remove('colab-df-spinner');\n",
              "      quickchartButtonEl.classList.add('colab-df-quickchart-complete');\n",
              "    }\n",
              "    (() => {\n",
              "      let quickchartButtonEl =\n",
              "        document.querySelector('#df-6d5db606-8318-4f62-8644-6dd0a1398d16 button');\n",
              "      quickchartButtonEl.style.display =\n",
              "        google.colab.kernel.accessAllowed ? 'block' : 'none';\n",
              "    })();\n",
              "  </script>\n",
              "</div>\n",
              "    </div>\n",
              "  </div>\n"
            ],
            "text/plain": [
              "           ID                Name  Age Nationality  Overall  Potential  \\\n",
              "0      158023            L. Messi   31   Argentina       94         94   \n",
              "1       20801   Cristiano Ronaldo   33    Portugal       94         94   \n",
              "2      190871           Neymar Jr   26      Brazil       92         93   \n",
              "3      193080              De Gea   27       Spain       91         93   \n",
              "4      192985        K. De Bruyne   27     Belgium       91         92   \n",
              "...       ...                 ...  ...         ...      ...        ...   \n",
              "18202  238813        J. Lundstram   19     England       47         65   \n",
              "18203  243165  N. Christoffersson   19      Sweden       47         63   \n",
              "18204  241638           B. Worman   16     England       47         67   \n",
              "18205  246268      D. Walker-Rice   17     England       47         66   \n",
              "18206  246269           G. Nugent   16     England       46         66   \n",
              "\n",
              "                      Club     Value   Wage Preferred Foot  \\\n",
              "0             FC Barcelona  110500.0  565.0           Left   \n",
              "1                 Juventus   77000.0  405.0          Right   \n",
              "2      Paris Saint-Germain  118500.0  290.0          Right   \n",
              "3        Manchester United   72000.0  260.0          Right   \n",
              "4          Manchester City  102000.0  355.0          Right   \n",
              "...                    ...       ...    ...            ...   \n",
              "18202      Crewe Alexandra      60.0    1.0          Right   \n",
              "18203       Trelleborgs FF      60.0    1.0          Right   \n",
              "18204     Cambridge United      60.0    1.0          Right   \n",
              "18205      Tranmere Rovers      60.0    1.0          Right   \n",
              "18206      Tranmere Rovers      60.0    1.0          Right   \n",
              "\n",
              "       International Reputation  Skill Moves Position  Joined  \\\n",
              "0                           5.0          4.0       RF    2004   \n",
              "1                           5.0          5.0       ST    2018   \n",
              "2                           5.0          5.0       LW    2017   \n",
              "3                           4.0          1.0       GK    2011   \n",
              "4                           4.0          4.0      RCM    2015   \n",
              "...                         ...          ...      ...     ...   \n",
              "18202                       1.0          2.0       CM    2017   \n",
              "18203                       1.0          2.0       ST    2018   \n",
              "18204                       1.0          2.0       ST    2017   \n",
              "18205                       1.0          2.0       RW    2018   \n",
              "18206                       1.0          2.0       CM    2018   \n",
              "\n",
              "      Contract Valid Until    Height  Weight  Release Clause  \n",
              "0               2021-01-01  5.583333   159.0        226500.0  \n",
              "1               2022-01-01  6.166667   183.0        127100.0  \n",
              "2               2022-01-01  5.750000   150.0        228100.0  \n",
              "3               2020-01-01  6.333333   168.0        138600.0  \n",
              "4               2023-01-01  5.916667   154.0        196400.0  \n",
              "...                    ...       ...     ...             ...  \n",
              "18202           2019-01-01  5.750000   134.0           143.0  \n",
              "18203           2020-01-01  6.250000   170.0           113.0  \n",
              "18204           2021-01-01  5.666667   148.0           165.0  \n",
              "18205           2019-01-01  5.833333   154.0           143.0  \n",
              "18206           2019-01-01  5.833333   176.0           165.0  \n",
              "\n",
              "[18207 rows x 18 columns]"
            ]
          },
          "execution_count": 45,
          "metadata": {},
          "output_type": "execute_result"
        }
      ],
      "source": [
        "from statsmodels.stats.weightstats import ttest_ind, ztest\n",
        "import matplotlib.pyplot as plt\n",
        "import seaborn as sns\n",
        "import pandas as pd\n",
        "import numpy as np\n",
        "\n",
        "df = pd.read_csv(\"fifa_dataset.csv\")\n",
        "df"
      ]
    },
    {
      "cell_type": "code",
      "execution_count": 46,
      "metadata": {
        "colab": {
          "base_uri": "https://localhost:8080/"
        },
        "id": "YOibK6d9BfIP",
        "outputId": "00aeabb2-87cc-42b5-85bd-8b3bc7685bf2"
      },
      "outputs": [
        {
          "name": "stdout",
          "output_type": "stream",
          "text": [
            "<class 'pandas.core.frame.DataFrame'>\n",
            "RangeIndex: 18207 entries, 0 to 18206\n",
            "Data columns (total 18 columns):\n",
            " #   Column                    Non-Null Count  Dtype  \n",
            "---  ------                    --------------  -----  \n",
            " 0   ID                        18207 non-null  int64  \n",
            " 1   Name                      18207 non-null  object \n",
            " 2   Age                       18207 non-null  int64  \n",
            " 3   Nationality               18207 non-null  object \n",
            " 4   Overall                   18207 non-null  int64  \n",
            " 5   Potential                 18207 non-null  int64  \n",
            " 6   Club                      17966 non-null  object \n",
            " 7   Value                     17955 non-null  float64\n",
            " 8   Wage                      18207 non-null  float64\n",
            " 9   Preferred Foot            18207 non-null  object \n",
            " 10  International Reputation  18159 non-null  float64\n",
            " 11  Skill Moves               18159 non-null  float64\n",
            " 12  Position                  18207 non-null  object \n",
            " 13  Joined                    18207 non-null  int64  \n",
            " 14  Contract Valid Until      17918 non-null  object \n",
            " 15  Height                    18207 non-null  float64\n",
            " 16  Weight                    18207 non-null  float64\n",
            " 17  Release Clause            18207 non-null  float64\n",
            "dtypes: float64(7), int64(5), object(6)\n",
            "memory usage: 2.5+ MB\n"
          ]
        }
      ],
      "source": [
        "df.info()"
      ]
    },
    {
      "cell_type": "code",
      "execution_count": 47,
      "metadata": {
        "colab": {
          "base_uri": "https://localhost:8080/",
          "height": 300
        },
        "id": "9sHlNaHxGTQm",
        "outputId": "71e69977-f980-4c60-e1d5-c5759b871009"
      },
      "outputs": [
        {
          "data": {
            "text/html": [
              "\n",
              "  <div id=\"df-71fac23b-0701-4d70-bab0-34d064c4b482\" class=\"colab-df-container\">\n",
              "    <div>\n",
              "<style scoped>\n",
              "    .dataframe tbody tr th:only-of-type {\n",
              "        vertical-align: middle;\n",
              "    }\n",
              "\n",
              "    .dataframe tbody tr th {\n",
              "        vertical-align: top;\n",
              "    }\n",
              "\n",
              "    .dataframe thead th {\n",
              "        text-align: right;\n",
              "    }\n",
              "</style>\n",
              "<table border=\"1\" class=\"dataframe\">\n",
              "  <thead>\n",
              "    <tr style=\"text-align: right;\">\n",
              "      <th></th>\n",
              "      <th>ID</th>\n",
              "      <th>Age</th>\n",
              "      <th>Overall</th>\n",
              "      <th>Potential</th>\n",
              "      <th>Value</th>\n",
              "      <th>Wage</th>\n",
              "      <th>International Reputation</th>\n",
              "      <th>Skill Moves</th>\n",
              "      <th>Joined</th>\n",
              "      <th>Height</th>\n",
              "      <th>Weight</th>\n",
              "      <th>Release Clause</th>\n",
              "    </tr>\n",
              "  </thead>\n",
              "  <tbody>\n",
              "    <tr>\n",
              "      <th>count</th>\n",
              "      <td>18207.000000</td>\n",
              "      <td>18207.000000</td>\n",
              "      <td>18207.000000</td>\n",
              "      <td>18207.000000</td>\n",
              "      <td>17955.000000</td>\n",
              "      <td>18207.000000</td>\n",
              "      <td>18159.000000</td>\n",
              "      <td>18159.000000</td>\n",
              "      <td>18207.000000</td>\n",
              "      <td>18207.000000</td>\n",
              "      <td>18207.000000</td>\n",
              "      <td>18207.000000</td>\n",
              "    </tr>\n",
              "    <tr>\n",
              "      <th>mean</th>\n",
              "      <td>214298.338606</td>\n",
              "      <td>25.122206</td>\n",
              "      <td>66.238699</td>\n",
              "      <td>71.307299</td>\n",
              "      <td>2444.530214</td>\n",
              "      <td>9.731312</td>\n",
              "      <td>1.113222</td>\n",
              "      <td>2.361308</td>\n",
              "      <td>2016.420607</td>\n",
              "      <td>5.946771</td>\n",
              "      <td>165.979129</td>\n",
              "      <td>4585.060971</td>\n",
              "    </tr>\n",
              "    <tr>\n",
              "      <th>std</th>\n",
              "      <td>29965.244204</td>\n",
              "      <td>4.669943</td>\n",
              "      <td>6.908930</td>\n",
              "      <td>6.136496</td>\n",
              "      <td>5626.715434</td>\n",
              "      <td>21.999290</td>\n",
              "      <td>0.394031</td>\n",
              "      <td>0.756164</td>\n",
              "      <td>2.018194</td>\n",
              "      <td>0.220514</td>\n",
              "      <td>15.572775</td>\n",
              "      <td>10630.414430</td>\n",
              "    </tr>\n",
              "    <tr>\n",
              "      <th>min</th>\n",
              "      <td>16.000000</td>\n",
              "      <td>16.000000</td>\n",
              "      <td>46.000000</td>\n",
              "      <td>48.000000</td>\n",
              "      <td>10.000000</td>\n",
              "      <td>0.000000</td>\n",
              "      <td>1.000000</td>\n",
              "      <td>1.000000</td>\n",
              "      <td>1991.000000</td>\n",
              "      <td>5.083333</td>\n",
              "      <td>110.000000</td>\n",
              "      <td>13.000000</td>\n",
              "    </tr>\n",
              "    <tr>\n",
              "      <th>25%</th>\n",
              "      <td>200315.500000</td>\n",
              "      <td>21.000000</td>\n",
              "      <td>62.000000</td>\n",
              "      <td>67.000000</td>\n",
              "      <td>325.000000</td>\n",
              "      <td>1.000000</td>\n",
              "      <td>1.000000</td>\n",
              "      <td>2.000000</td>\n",
              "      <td>2016.000000</td>\n",
              "      <td>5.750000</td>\n",
              "      <td>154.000000</td>\n",
              "      <td>570.000000</td>\n",
              "    </tr>\n",
              "    <tr>\n",
              "      <th>50%</th>\n",
              "      <td>221759.000000</td>\n",
              "      <td>25.000000</td>\n",
              "      <td>66.000000</td>\n",
              "      <td>71.000000</td>\n",
              "      <td>700.000000</td>\n",
              "      <td>3.000000</td>\n",
              "      <td>1.000000</td>\n",
              "      <td>2.000000</td>\n",
              "      <td>2017.000000</td>\n",
              "      <td>5.916667</td>\n",
              "      <td>165.000000</td>\n",
              "      <td>1300.000000</td>\n",
              "    </tr>\n",
              "    <tr>\n",
              "      <th>75%</th>\n",
              "      <td>236529.500000</td>\n",
              "      <td>28.000000</td>\n",
              "      <td>71.000000</td>\n",
              "      <td>75.000000</td>\n",
              "      <td>2100.000000</td>\n",
              "      <td>9.000000</td>\n",
              "      <td>1.000000</td>\n",
              "      <td>3.000000</td>\n",
              "      <td>2018.000000</td>\n",
              "      <td>6.083333</td>\n",
              "      <td>176.000000</td>\n",
              "      <td>4585.060806</td>\n",
              "    </tr>\n",
              "    <tr>\n",
              "      <th>max</th>\n",
              "      <td>246620.000000</td>\n",
              "      <td>45.000000</td>\n",
              "      <td>94.000000</td>\n",
              "      <td>95.000000</td>\n",
              "      <td>118500.000000</td>\n",
              "      <td>565.000000</td>\n",
              "      <td>5.000000</td>\n",
              "      <td>5.000000</td>\n",
              "      <td>2018.000000</td>\n",
              "      <td>6.750000</td>\n",
              "      <td>243.000000</td>\n",
              "      <td>228100.000000</td>\n",
              "    </tr>\n",
              "  </tbody>\n",
              "</table>\n",
              "</div>\n",
              "    <div class=\"colab-df-buttons\">\n",
              "\n",
              "  <div class=\"colab-df-container\">\n",
              "    <button class=\"colab-df-convert\" onclick=\"convertToInteractive('df-71fac23b-0701-4d70-bab0-34d064c4b482')\"\n",
              "            title=\"Convert this dataframe to an interactive table.\"\n",
              "            style=\"display:none;\">\n",
              "\n",
              "  <svg xmlns=\"http://www.w3.org/2000/svg\" height=\"24px\" viewBox=\"0 -960 960 960\">\n",
              "    <path d=\"M120-120v-720h720v720H120Zm60-500h600v-160H180v160Zm220 220h160v-160H400v160Zm0 220h160v-160H400v160ZM180-400h160v-160H180v160Zm440 0h160v-160H620v160ZM180-180h160v-160H180v160Zm440 0h160v-160H620v160Z\"/>\n",
              "  </svg>\n",
              "    </button>\n",
              "\n",
              "  <style>\n",
              "    .colab-df-container {\n",
              "      display:flex;\n",
              "      gap: 12px;\n",
              "    }\n",
              "\n",
              "    .colab-df-convert {\n",
              "      background-color: #E8F0FE;\n",
              "      border: none;\n",
              "      border-radius: 50%;\n",
              "      cursor: pointer;\n",
              "      display: none;\n",
              "      fill: #1967D2;\n",
              "      height: 32px;\n",
              "      padding: 0 0 0 0;\n",
              "      width: 32px;\n",
              "    }\n",
              "\n",
              "    .colab-df-convert:hover {\n",
              "      background-color: #E2EBFA;\n",
              "      box-shadow: 0px 1px 2px rgba(60, 64, 67, 0.3), 0px 1px 3px 1px rgba(60, 64, 67, 0.15);\n",
              "      fill: #174EA6;\n",
              "    }\n",
              "\n",
              "    .colab-df-buttons div {\n",
              "      margin-bottom: 4px;\n",
              "    }\n",
              "\n",
              "    [theme=dark] .colab-df-convert {\n",
              "      background-color: #3B4455;\n",
              "      fill: #D2E3FC;\n",
              "    }\n",
              "\n",
              "    [theme=dark] .colab-df-convert:hover {\n",
              "      background-color: #434B5C;\n",
              "      box-shadow: 0px 1px 3px 1px rgba(0, 0, 0, 0.15);\n",
              "      filter: drop-shadow(0px 1px 2px rgba(0, 0, 0, 0.3));\n",
              "      fill: #FFFFFF;\n",
              "    }\n",
              "  </style>\n",
              "\n",
              "    <script>\n",
              "      const buttonEl =\n",
              "        document.querySelector('#df-71fac23b-0701-4d70-bab0-34d064c4b482 button.colab-df-convert');\n",
              "      buttonEl.style.display =\n",
              "        google.colab.kernel.accessAllowed ? 'block' : 'none';\n",
              "\n",
              "      async function convertToInteractive(key) {\n",
              "        const element = document.querySelector('#df-71fac23b-0701-4d70-bab0-34d064c4b482');\n",
              "        const dataTable =\n",
              "          await google.colab.kernel.invokeFunction('convertToInteractive',\n",
              "                                                    [key], {});\n",
              "        if (!dataTable) return;\n",
              "\n",
              "        const docLinkHtml = 'Like what you see? Visit the ' +\n",
              "          '<a target=\"_blank\" href=https://colab.research.google.com/notebooks/data_table.ipynb>data table notebook</a>'\n",
              "          + ' to learn more about interactive tables.';\n",
              "        element.innerHTML = '';\n",
              "        dataTable['output_type'] = 'display_data';\n",
              "        await google.colab.output.renderOutput(dataTable, element);\n",
              "        const docLink = document.createElement('div');\n",
              "        docLink.innerHTML = docLinkHtml;\n",
              "        element.appendChild(docLink);\n",
              "      }\n",
              "    </script>\n",
              "  </div>\n",
              "\n",
              "\n",
              "<div id=\"df-1759218b-bad0-459e-8a6c-3921512d198a\">\n",
              "  <button class=\"colab-df-quickchart\" onclick=\"quickchart('df-1759218b-bad0-459e-8a6c-3921512d198a')\"\n",
              "            title=\"Suggest charts.\"\n",
              "            style=\"display:none;\">\n",
              "\n",
              "<svg xmlns=\"http://www.w3.org/2000/svg\" height=\"24px\"viewBox=\"0 0 24 24\"\n",
              "     width=\"24px\">\n",
              "    <g>\n",
              "        <path d=\"M19 3H5c-1.1 0-2 .9-2 2v14c0 1.1.9 2 2 2h14c1.1 0 2-.9 2-2V5c0-1.1-.9-2-2-2zM9 17H7v-7h2v7zm4 0h-2V7h2v10zm4 0h-2v-4h2v4z\"/>\n",
              "    </g>\n",
              "</svg>\n",
              "  </button>\n",
              "\n",
              "<style>\n",
              "  .colab-df-quickchart {\n",
              "      --bg-color: #E8F0FE;\n",
              "      --fill-color: #1967D2;\n",
              "      --hover-bg-color: #E2EBFA;\n",
              "      --hover-fill-color: #174EA6;\n",
              "      --disabled-fill-color: #AAA;\n",
              "      --disabled-bg-color: #DDD;\n",
              "  }\n",
              "\n",
              "  [theme=dark] .colab-df-quickchart {\n",
              "      --bg-color: #3B4455;\n",
              "      --fill-color: #D2E3FC;\n",
              "      --hover-bg-color: #434B5C;\n",
              "      --hover-fill-color: #FFFFFF;\n",
              "      --disabled-bg-color: #3B4455;\n",
              "      --disabled-fill-color: #666;\n",
              "  }\n",
              "\n",
              "  .colab-df-quickchart {\n",
              "    background-color: var(--bg-color);\n",
              "    border: none;\n",
              "    border-radius: 50%;\n",
              "    cursor: pointer;\n",
              "    display: none;\n",
              "    fill: var(--fill-color);\n",
              "    height: 32px;\n",
              "    padding: 0;\n",
              "    width: 32px;\n",
              "  }\n",
              "\n",
              "  .colab-df-quickchart:hover {\n",
              "    background-color: var(--hover-bg-color);\n",
              "    box-shadow: 0 1px 2px rgba(60, 64, 67, 0.3), 0 1px 3px 1px rgba(60, 64, 67, 0.15);\n",
              "    fill: var(--button-hover-fill-color);\n",
              "  }\n",
              "\n",
              "  .colab-df-quickchart-complete:disabled,\n",
              "  .colab-df-quickchart-complete:disabled:hover {\n",
              "    background-color: var(--disabled-bg-color);\n",
              "    fill: var(--disabled-fill-color);\n",
              "    box-shadow: none;\n",
              "  }\n",
              "\n",
              "  .colab-df-spinner {\n",
              "    border: 2px solid var(--fill-color);\n",
              "    border-color: transparent;\n",
              "    border-bottom-color: var(--fill-color);\n",
              "    animation:\n",
              "      spin 1s steps(1) infinite;\n",
              "  }\n",
              "\n",
              "  @keyframes spin {\n",
              "    0% {\n",
              "      border-color: transparent;\n",
              "      border-bottom-color: var(--fill-color);\n",
              "      border-left-color: var(--fill-color);\n",
              "    }\n",
              "    20% {\n",
              "      border-color: transparent;\n",
              "      border-left-color: var(--fill-color);\n",
              "      border-top-color: var(--fill-color);\n",
              "    }\n",
              "    30% {\n",
              "      border-color: transparent;\n",
              "      border-left-color: var(--fill-color);\n",
              "      border-top-color: var(--fill-color);\n",
              "      border-right-color: var(--fill-color);\n",
              "    }\n",
              "    40% {\n",
              "      border-color: transparent;\n",
              "      border-right-color: var(--fill-color);\n",
              "      border-top-color: var(--fill-color);\n",
              "    }\n",
              "    60% {\n",
              "      border-color: transparent;\n",
              "      border-right-color: var(--fill-color);\n",
              "    }\n",
              "    80% {\n",
              "      border-color: transparent;\n",
              "      border-right-color: var(--fill-color);\n",
              "      border-bottom-color: var(--fill-color);\n",
              "    }\n",
              "    90% {\n",
              "      border-color: transparent;\n",
              "      border-bottom-color: var(--fill-color);\n",
              "    }\n",
              "  }\n",
              "</style>\n",
              "\n",
              "  <script>\n",
              "    async function quickchart(key) {\n",
              "      const quickchartButtonEl =\n",
              "        document.querySelector('#' + key + ' button');\n",
              "      quickchartButtonEl.disabled = true;  // To prevent multiple clicks.\n",
              "      quickchartButtonEl.classList.add('colab-df-spinner');\n",
              "      try {\n",
              "        const charts = await google.colab.kernel.invokeFunction(\n",
              "            'suggestCharts', [key], {});\n",
              "      } catch (error) {\n",
              "        console.error('Error during call to suggestCharts:', error);\n",
              "      }\n",
              "      quickchartButtonEl.classList.remove('colab-df-spinner');\n",
              "      quickchartButtonEl.classList.add('colab-df-quickchart-complete');\n",
              "    }\n",
              "    (() => {\n",
              "      let quickchartButtonEl =\n",
              "        document.querySelector('#df-1759218b-bad0-459e-8a6c-3921512d198a button');\n",
              "      quickchartButtonEl.style.display =\n",
              "        google.colab.kernel.accessAllowed ? 'block' : 'none';\n",
              "    })();\n",
              "  </script>\n",
              "</div>\n",
              "    </div>\n",
              "  </div>\n"
            ],
            "text/plain": [
              "                  ID           Age       Overall     Potential          Value  \\\n",
              "count   18207.000000  18207.000000  18207.000000  18207.000000   17955.000000   \n",
              "mean   214298.338606     25.122206     66.238699     71.307299    2444.530214   \n",
              "std     29965.244204      4.669943      6.908930      6.136496    5626.715434   \n",
              "min        16.000000     16.000000     46.000000     48.000000      10.000000   \n",
              "25%    200315.500000     21.000000     62.000000     67.000000     325.000000   \n",
              "50%    221759.000000     25.000000     66.000000     71.000000     700.000000   \n",
              "75%    236529.500000     28.000000     71.000000     75.000000    2100.000000   \n",
              "max    246620.000000     45.000000     94.000000     95.000000  118500.000000   \n",
              "\n",
              "               Wage  International Reputation   Skill Moves        Joined  \\\n",
              "count  18207.000000              18159.000000  18159.000000  18207.000000   \n",
              "mean       9.731312                  1.113222      2.361308   2016.420607   \n",
              "std       21.999290                  0.394031      0.756164      2.018194   \n",
              "min        0.000000                  1.000000      1.000000   1991.000000   \n",
              "25%        1.000000                  1.000000      2.000000   2016.000000   \n",
              "50%        3.000000                  1.000000      2.000000   2017.000000   \n",
              "75%        9.000000                  1.000000      3.000000   2018.000000   \n",
              "max      565.000000                  5.000000      5.000000   2018.000000   \n",
              "\n",
              "             Height        Weight  Release Clause  \n",
              "count  18207.000000  18207.000000    18207.000000  \n",
              "mean       5.946771    165.979129     4585.060971  \n",
              "std        0.220514     15.572775    10630.414430  \n",
              "min        5.083333    110.000000       13.000000  \n",
              "25%        5.750000    154.000000      570.000000  \n",
              "50%        5.916667    165.000000     1300.000000  \n",
              "75%        6.083333    176.000000     4585.060806  \n",
              "max        6.750000    243.000000   228100.000000  "
            ]
          },
          "execution_count": 47,
          "metadata": {},
          "output_type": "execute_result"
        }
      ],
      "source": [
        "df.describe()"
      ]
    },
    {
      "cell_type": "markdown",
      "metadata": {
        "id": "gn-uce1-Iwgy"
      },
      "source": [
        "# **Preprocessing: Filling the Null Values**"
      ]
    },
    {
      "cell_type": "code",
      "execution_count": 48,
      "metadata": {
        "colab": {
          "base_uri": "https://localhost:8080/"
        },
        "id": "LRTS0psPBfEs",
        "outputId": "45ae71b1-fed9-467a-928f-d0cbcedb18c9"
      },
      "outputs": [
        {
          "name": "stdout",
          "output_type": "stream",
          "text": [
            "Average Value is: 2444.53\n",
            "Average International Reputation is: 1.11\n",
            "Average Skill Moves is: 2.36\n",
            "Most Common Contract Expiration Year is: 2019-01-01\n",
            "Most Common Club is: FC Barcelona\n"
          ]
        }
      ],
      "source": [
        "avg_value = df['Value'].mean()\n",
        "avg_rep = df['International Reputation'].mean()\n",
        "avg_skills = (df['Skill Moves'].mean())\n",
        "contract_mode = df['Contract Valid Until'].mode()[0]\n",
        "club_mode = df['Club'].value_counts().idxmax()\n",
        "\n",
        "print(f\"Average Value is: {avg_value:.2f}\")\n",
        "print(f\"Average International Reputation is: {avg_rep:.2f}\")\n",
        "print(f\"Average Skill Moves is: {avg_skills:.2f}\")\n",
        "print(f\"Most Common Contract Expiration Year is: {contract_mode}\")\n",
        "print(f\"Most Common Club is: {club_mode}\")"
      ]
    },
    {
      "cell_type": "code",
      "execution_count": 49,
      "metadata": {
        "id": "7lQQJfjfFP6o"
      },
      "outputs": [],
      "source": [
        "df['Value'].fillna(df['Value'].mean(), inplace=True)\n",
        "df['International Reputation'].fillna(df['International Reputation'].mean(), inplace=True)\n",
        "df['Skill Moves'].fillna(df['Skill Moves'].mean(), inplace=True)\n",
        "df['Contract Valid Until'].fillna(contract_mode, inplace=True)\n",
        "df['Club'].fillna(club_mode, inplace=True)"
      ]
    },
    {
      "cell_type": "code",
      "execution_count": 50,
      "metadata": {
        "colab": {
          "base_uri": "https://localhost:8080/"
        },
        "id": "c4i3bCNFEd0z",
        "outputId": "32dcf24b-ca5e-43f4-bb26-0a40e530a8ca"
      },
      "outputs": [
        {
          "name": "stdout",
          "output_type": "stream",
          "text": [
            "<class 'pandas.core.frame.DataFrame'>\n",
            "RangeIndex: 18207 entries, 0 to 18206\n",
            "Data columns (total 18 columns):\n",
            " #   Column                    Non-Null Count  Dtype  \n",
            "---  ------                    --------------  -----  \n",
            " 0   ID                        18207 non-null  int64  \n",
            " 1   Name                      18207 non-null  object \n",
            " 2   Age                       18207 non-null  int64  \n",
            " 3   Nationality               18207 non-null  object \n",
            " 4   Overall                   18207 non-null  int64  \n",
            " 5   Potential                 18207 non-null  int64  \n",
            " 6   Club                      18207 non-null  object \n",
            " 7   Value                     18207 non-null  float64\n",
            " 8   Wage                      18207 non-null  float64\n",
            " 9   Preferred Foot            18207 non-null  object \n",
            " 10  International Reputation  18207 non-null  float64\n",
            " 11  Skill Moves               18207 non-null  float64\n",
            " 12  Position                  18207 non-null  object \n",
            " 13  Joined                    18207 non-null  int64  \n",
            " 14  Contract Valid Until      18207 non-null  object \n",
            " 15  Height                    18207 non-null  float64\n",
            " 16  Weight                    18207 non-null  float64\n",
            " 17  Release Clause            18207 non-null  float64\n",
            "dtypes: float64(7), int64(5), object(6)\n",
            "memory usage: 2.5+ MB\n"
          ]
        }
      ],
      "source": [
        "df.info()"
      ]
    },
    {
      "cell_type": "markdown",
      "metadata": {
        "id": "lolG6RRSZv93"
      },
      "source": [
        "# **BoxPlots & Statistics**"
      ]
    },
    {
      "cell_type": "code",
      "execution_count": 56,
      "metadata": {
        "colab": {
          "base_uri": "https://localhost:8080/"
        },
        "id": "V21h2lEMZ0Z5",
        "outputId": "854487f7-e1b4-46c2-e3e2-96081ab43583"
      },
      "outputs": [
        {
          "name": "stdout",
          "output_type": "stream",
          "text": [
            "Statistics of the 'Wage' Column:\n",
            "\n",
            "- Q1: 1.00\n",
            "- Q2 (Median): 3.00\n",
            "- Q3: 9.00\n",
            "- IQR: 8.00\n",
            "- Mean: 9.73\n",
            "- Standard Deviation: 22.00\n",
            "- Variance: 483.97\n"
          ]
        }
      ],
      "source": [
        "# Check for missing values and convert 'Wage' column to numeric\n",
        "df['Wage'] = pd.to_numeric(df['Wage'], errors='coerce')\n",
        "\n",
        "# Calculate quartiles, IQR, mean, standard deviation, and variance\n",
        "q1 = df['Wage'].quantile(0.25)\n",
        "q2 = df['Wage'].median()\n",
        "q3 = df['Wage'].quantile(0.75)\n",
        "iqr = q3 - q1\n",
        "mean = df['Wage'].mean()\n",
        "std_dev = df['Wage'].std()\n",
        "variance = df['Wage'].var()\n",
        "\n",
        "# Display statistics\n",
        "print(\"Statistics of the 'Wage' Column:\\n\")\n",
        "print(f\"- Q1: {q1:.2f}\")\n",
        "print(f\"- Q2 (Median): {q2:.2f}\")\n",
        "print(f\"- Q3: {q3:.2f}\")\n",
        "print(f\"- IQR: {iqr:.2f}\")\n",
        "print(f\"- Mean: {mean:.2f}\")\n",
        "print(f\"- Standard Deviation: {std_dev:.2f}\")\n",
        "print(f\"- Variance: {variance:.2f}\")"
      ]
    },
    {
      "cell_type": "code",
      "execution_count": 82,
      "metadata": {
        "colab": {
          "base_uri": "https://localhost:8080/",
          "height": 591
        },
        "id": "4YsYdmWHiuEe",
        "outputId": "7e0b5f3b-e74e-4660-9663-389d664f79ba"
      },
      "outputs": [
        {
          "name": "stderr",
          "output_type": "stream",
          "text": [
            "<ipython-input-82-cbd084fdac7b>:7: FutureWarning: \n",
            "\n",
            "`shade` is now deprecated in favor of `fill`; setting `fill=True`.\n",
            "This will become an error in seaborn v0.14.0; please update your code.\n",
            "\n",
            "  sns.kdeplot(df['Value'], color='blue', shade=True)\n"
          ]
        },
        {
          "data": {
            "image/png": "[encoded data removed]",
            "text/plain": [
              "<Figure size 1000x500 with 1 Axes>"
            ]
          },
          "metadata": {},
          "output_type": "display_data"
        }
      ],
      "source": [
        "import pandas as pd\n",
        "import seaborn as sns\n",
        "import matplotlib.pyplot as plt\n",
        "\n",
        "# Create a KDE plot of the 'Value' column\n",
        "plt.figure(figsize=(10, 5))\n",
        "sns.kdeplot(df['Value'], color='blue', fill=True)\n",
        "\n",
        "plt.title('Kernel Density Estimation (KDE) Plot of Value Column')\n",
        "plt.xlabel('Value')\n",
        "plt.ylabel('Density')\n",
        "plt.show()\n"
      ]
    },
    {
      "cell_type": "code",
      "execution_count": 83,
      "metadata": {
        "colab": {
          "base_uri": "https://localhost:8080/",
          "height": 591
        },
        "id": "yTHuA18Vjzvx",
        "outputId": "a875ee93-33de-4e7b-97b6-eca724c123fd"
      },
      "outputs": [
        {
          "name": "stderr",
          "output_type": "stream",
          "text": [
            "<ipython-input-83-95581c93cec2>:19: FutureWarning: \n",
            "\n",
            "`shade` is now deprecated in favor of `fill`; setting `fill=True`.\n",
            "This will become an error in seaborn v0.14.0; please update your code.\n",
            "\n",
            "  sns.kdeplot(transformed_data, color='blue', shade=True)\n"
          ]
        },
        {
          "data": {
            "image/png": "[encoded data removed]",
            "text/plain": [
              "<Figure size 1000x500 with 1 Axes>"
            ]
          },
          "metadata": {},
          "output_type": "display_data"
        }
      ],
      "source": [
        "import pandas as pd\n",
        "import numpy as np\n",
        "import seaborn as sns\n",
        "import matplotlib.pyplot as plt\n",
        "\n",
        "# Apply logarithmic transformation\n",
        "transformed_data = np.log(df['Value'])\n",
        "\n",
        "# Create a KDE plot of the transformed data\n",
        "plt.figure(figsize=(10, 5))\n",
        "sns.kdeplot(transformed_data, color='blue', shade=True)\n",
        "\n",
        "plt.title('Kernel Density Estimation (KDE) Plot of Transformed Value Column (Logarithmic)')\n",
        "plt.xlabel('Log Transformed Value')\n",
        "plt.ylabel('Density')\n",
        "plt.show()"
      ]
    },
    {
      "cell_type": "markdown",
      "metadata": {
        "id": "_i-pIDqsI7IO"
      },
      "source": [
        "# **Checking the New DF Characteristics**"
      ]
    },
    {
      "cell_type": "markdown",
      "metadata": {
        "id": "Nwe3jzzvJJrM"
      },
      "source": [
        "#### **DF Top Rows**"
      ]
    },
    {
      "cell_type": "code",
      "execution_count": 85,
      "metadata": {
        "colab": {
          "base_uri": "https://localhost:8080/",
          "height": 293
        },
        "id": "X9H0P7A9Edxp",
        "outputId": "4a386900-87ee-408f-a89f-20af361aba9f"
      },
      "outputs": [
        {
          "data": {
            "text/html": [
              "\n",
              "  <div id=\"df-cde47945-85d0-49a4-afee-2e884d8b6bfa\" class=\"colab-df-container\">\n",
              "    <div>\n",
              "<style scoped>\n",
              "    .dataframe tbody tr th:only-of-type {\n",
              "        vertical-align: middle;\n",
              "    }\n",
              "\n",
              "    .dataframe tbody tr th {\n",
              "        vertical-align: top;\n",
              "    }\n",
              "\n",
              "    .dataframe thead th {\n",
              "        text-align: right;\n",
              "    }\n",
              "</style>\n",
              "<table border=\"1\" class=\"dataframe\">\n",
              "  <thead>\n",
              "    <tr style=\"text-align: right;\">\n",
              "      <th></th>\n",
              "      <th>ID</th>\n",
              "      <th>Name</th>\n",
              "      <th>Age</th>\n",
              "      <th>Nationality</th>\n",
              "      <th>Overall</th>\n",
              "      <th>Potential</th>\n",
              "      <th>Club</th>\n",
              "      <th>Value</th>\n",
              "      <th>Wage</th>\n",
              "      <th>Preferred Foot</th>\n",
              "      <th>International Reputation</th>\n",
              "      <th>Skill Moves</th>\n",
              "      <th>Position</th>\n",
              "      <th>Joined</th>\n",
              "      <th>Contract Valid Until</th>\n",
              "      <th>Height</th>\n",
              "      <th>Weight</th>\n",
              "      <th>Release Clause</th>\n",
              "    </tr>\n",
              "  </thead>\n",
              "  <tbody>\n",
              "    <tr>\n",
              "      <th>0</th>\n",
              "      <td>158023</td>\n",
              "      <td>L. Messi</td>\n",
              "      <td>31</td>\n",
              "      <td>Argentina</td>\n",
              "      <td>94</td>\n",
              "      <td>94</td>\n",
              "      <td>FC Barcelona</td>\n",
              "      <td>110500.0</td>\n",
              "      <td>565.0</td>\n",
              "      <td>Left</td>\n",
              "      <td>5.0</td>\n",
              "      <td>4.0</td>\n",
              "      <td>RF</td>\n",
              "      <td>2004</td>\n",
              "      <td>2021-01-01</td>\n",
              "      <td>5.583333</td>\n",
              "      <td>159.0</td>\n",
              "      <td>226500.0</td>\n",
              "    </tr>\n",
              "    <tr>\n",
              "      <th>1</th>\n",
              "      <td>20801</td>\n",
              "      <td>Cristiano Ronaldo</td>\n",
              "      <td>33</td>\n",
              "      <td>Portugal</td>\n",
              "      <td>94</td>\n",
              "      <td>94</td>\n",
              "      <td>Juventus</td>\n",
              "      <td>77000.0</td>\n",
              "      <td>405.0</td>\n",
              "      <td>Right</td>\n",
              "      <td>5.0</td>\n",
              "      <td>5.0</td>\n",
              "      <td>ST</td>\n",
              "      <td>2018</td>\n",
              "      <td>2022-01-01</td>\n",
              "      <td>6.166667</td>\n",
              "      <td>183.0</td>\n",
              "      <td>127100.0</td>\n",
              "    </tr>\n",
              "    <tr>\n",
              "      <th>2</th>\n",
              "      <td>190871</td>\n",
              "      <td>Neymar Jr</td>\n",
              "      <td>26</td>\n",
              "      <td>Brazil</td>\n",
              "      <td>92</td>\n",
              "      <td>93</td>\n",
              "      <td>Paris Saint-Germain</td>\n",
              "      <td>118500.0</td>\n",
              "      <td>290.0</td>\n",
              "      <td>Right</td>\n",
              "      <td>5.0</td>\n",
              "      <td>5.0</td>\n",
              "      <td>LW</td>\n",
              "      <td>2017</td>\n",
              "      <td>2022-01-01</td>\n",
              "      <td>5.750000</td>\n",
              "      <td>150.0</td>\n",
              "      <td>228100.0</td>\n",
              "    </tr>\n",
              "    <tr>\n",
              "      <th>3</th>\n",
              "      <td>193080</td>\n",
              "      <td>De Gea</td>\n",
              "      <td>27</td>\n",
              "      <td>Spain</td>\n",
              "      <td>91</td>\n",
              "      <td>93</td>\n",
              "      <td>Manchester United</td>\n",
              "      <td>72000.0</td>\n",
              "      <td>260.0</td>\n",
              "      <td>Right</td>\n",
              "      <td>4.0</td>\n",
              "      <td>1.0</td>\n",
              "      <td>GK</td>\n",
              "      <td>2011</td>\n",
              "      <td>2020-01-01</td>\n",
              "      <td>6.333333</td>\n",
              "      <td>168.0</td>\n",
              "      <td>138600.0</td>\n",
              "    </tr>\n",
              "    <tr>\n",
              "      <th>4</th>\n",
              "      <td>192985</td>\n",
              "      <td>K. De Bruyne</td>\n",
              "      <td>27</td>\n",
              "      <td>Belgium</td>\n",
              "      <td>91</td>\n",
              "      <td>92</td>\n",
              "      <td>Manchester City</td>\n",
              "      <td>102000.0</td>\n",
              "      <td>355.0</td>\n",
              "      <td>Right</td>\n",
              "      <td>4.0</td>\n",
              "      <td>4.0</td>\n",
              "      <td>RCM</td>\n",
              "      <td>2015</td>\n",
              "      <td>2023-01-01</td>\n",
              "      <td>5.916667</td>\n",
              "      <td>154.0</td>\n",
              "      <td>196400.0</td>\n",
              "    </tr>\n",
              "  </tbody>\n",
              "</table>\n",
              "</div>\n",
              "    <div class=\"colab-df-buttons\">\n",
              "\n",
              "  <div class=\"colab-df-container\">\n",
              "    <button class=\"colab-df-convert\" onclick=\"convertToInteractive('df-cde47945-85d0-49a4-afee-2e884d8b6bfa')\"\n",
              "            title=\"Convert this dataframe to an interactive table.\"\n",
              "            style=\"display:none;\">\n",
              "\n",
              "  <svg xmlns=\"http://www.w3.org/2000/svg\" height=\"24px\" viewBox=\"0 -960 960 960\">\n",
              "    <path d=\"M120-120v-720h720v720H120Zm60-500h600v-160H180v160Zm220 220h160v-160H400v160Zm0 220h160v-160H400v160ZM180-400h160v-160H180v160Zm440 0h160v-160H620v160ZM180-180h160v-160H180v160Zm440 0h160v-160H620v160Z\"/>\n",
              "  </svg>\n",
              "    </button>\n",
              "\n",
              "  <style>\n",
              "    .colab-df-container {\n",
              "      display:flex;\n",
              "      gap: 12px;\n",
              "    }\n",
              "\n",
              "    .colab-df-convert {\n",
              "      background-color: #E8F0FE;\n",
              "      border: none;\n",
              "      border-radius: 50%;\n",
              "      cursor: pointer;\n",
              "      display: none;\n",
              "      fill: #1967D2;\n",
              "      height: 32px;\n",
              "      padding: 0 0 0 0;\n",
              "      width: 32px;\n",
              "    }\n",
              "\n",
              "    .colab-df-convert:hover {\n",
              "      background-color: #E2EBFA;\n",
              "      box-shadow: 0px 1px 2px rgba(60, 64, 67, 0.3), 0px 1px 3px 1px rgba(60, 64, 67, 0.15);\n",
              "      fill: #174EA6;\n",
              "    }\n",
              "\n",
              "    .colab-df-buttons div {\n",
              "      margin-bottom: 4px;\n",
              "    }\n",
              "\n",
              "    [theme=dark] .colab-df-convert {\n",
              "      background-color: #3B4455;\n",
              "      fill: #D2E3FC;\n",
              "    }\n",
              "\n",
              "    [theme=dark] .colab-df-convert:hover {\n",
              "      background-color: #434B5C;\n",
              "      box-shadow: 0px 1px 3px 1px rgba(0, 0, 0, 0.15);\n",
              "      filter: drop-shadow(0px 1px 2px rgba(0, 0, 0, 0.3));\n",
              "      fill: #FFFFFF;\n",
              "    }\n",
              "  </style>\n",
              "\n",
              "    <script>\n",
              "      const buttonEl =\n",
              "        document.querySelector('#df-cde47945-85d0-49a4-afee-2e884d8b6bfa button.colab-df-convert');\n",
              "      buttonEl.style.display =\n",
              "        google.colab.kernel.accessAllowed ? 'block' : 'none';\n",
              "\n",
              "      async function convertToInteractive(key) {\n",
              "        const element = document.querySelector('#df-cde47945-85d0-49a4-afee-2e884d8b6bfa');\n",
              "        const dataTable =\n",
              "          await google.colab.kernel.invokeFunction('convertToInteractive',\n",
              "                                                    [key], {});\n",
              "        if (!dataTable) return;\n",
              "\n",
              "        const docLinkHtml = 'Like what you see? Visit the ' +\n",
              "          '<a target=\"_blank\" href=https://colab.research.google.com/notebooks/data_table.ipynb>data table notebook</a>'\n",
              "          + ' to learn more about interactive tables.';\n",
              "        element.innerHTML = '';\n",
              "        dataTable['output_type'] = 'display_data';\n",
              "        await google.colab.output.renderOutput(dataTable, element);\n",
              "        const docLink = document.createElement('div');\n",
              "        docLink.innerHTML = docLinkHtml;\n",
              "        element.appendChild(docLink);\n",
              "      }\n",
              "    </script>\n",
              "  </div>\n",
              "\n",
              "\n",
              "<div id=\"df-88206fb8-4b11-49c3-bfd6-8c2720ec17ae\">\n",
              "  <button class=\"colab-df-quickchart\" onclick=\"quickchart('df-88206fb8-4b11-49c3-bfd6-8c2720ec17ae')\"\n",
              "            title=\"Suggest charts.\"\n",
              "            style=\"display:none;\">\n",
              "\n",
              "<svg xmlns=\"http://www.w3.org/2000/svg\" height=\"24px\"viewBox=\"0 0 24 24\"\n",
              "     width=\"24px\">\n",
              "    <g>\n",
              "        <path d=\"M19 3H5c-1.1 0-2 .9-2 2v14c0 1.1.9 2 2 2h14c1.1 0 2-.9 2-2V5c0-1.1-.9-2-2-2zM9 17H7v-7h2v7zm4 0h-2V7h2v10zm4 0h-2v-4h2v4z\"/>\n",
              "    </g>\n",
              "</svg>\n",
              "  </button>\n",
              "\n",
              "<style>\n",
              "  .colab-df-quickchart {\n",
              "      --bg-color: #E8F0FE;\n",
              "      --fill-color: #1967D2;\n",
              "      --hover-bg-color: #E2EBFA;\n",
              "      --hover-fill-color: #174EA6;\n",
              "      --disabled-fill-color: #AAA;\n",
              "      --disabled-bg-color: #DDD;\n",
              "  }\n",
              "\n",
              "  [theme=dark] .colab-df-quickchart {\n",
              "      --bg-color: #3B4455;\n",
              "      --fill-color: #D2E3FC;\n",
              "      --hover-bg-color: #434B5C;\n",
              "      --hover-fill-color: #FFFFFF;\n",
              "      --disabled-bg-color: #3B4455;\n",
              "      --disabled-fill-color: #666;\n",
              "  }\n",
              "\n",
              "  .colab-df-quickchart {\n",
              "    background-color: var(--bg-color);\n",
              "    border: none;\n",
              "    border-radius: 50%;\n",
              "    cursor: pointer;\n",
              "    display: none;\n",
              "    fill: var(--fill-color);\n",
              "    height: 32px;\n",
              "    padding: 0;\n",
              "    width: 32px;\n",
              "  }\n",
              "\n",
              "  .colab-df-quickchart:hover {\n",
              "    background-color: var(--hover-bg-color);\n",
              "    box-shadow: 0 1px 2px rgba(60, 64, 67, 0.3), 0 1px 3px 1px rgba(60, 64, 67, 0.15);\n",
              "    fill: var(--button-hover-fill-color);\n",
              "  }\n",
              "\n",
              "  .colab-df-quickchart-complete:disabled,\n",
              "  .colab-df-quickchart-complete:disabled:hover {\n",
              "    background-color: var(--disabled-bg-color);\n",
              "    fill: var(--disabled-fill-color);\n",
              "    box-shadow: none;\n",
              "  }\n",
              "\n",
              "  .colab-df-spinner {\n",
              "    border: 2px solid var(--fill-color);\n",
              "    border-color: transparent;\n",
              "    border-bottom-color: var(--fill-color);\n",
              "    animation:\n",
              "      spin 1s steps(1) infinite;\n",
              "  }\n",
              "\n",
              "  @keyframes spin {\n",
              "    0% {\n",
              "      border-color: transparent;\n",
              "      border-bottom-color: var(--fill-color);\n",
              "      border-left-color: var(--fill-color);\n",
              "    }\n",
              "    20% {\n",
              "      border-color: transparent;\n",
              "      border-left-color: var(--fill-color);\n",
              "      border-top-color: var(--fill-color);\n",
              "    }\n",
              "    30% {\n",
              "      border-color: transparent;\n",
              "      border-left-color: var(--fill-color);\n",
              "      border-top-color: var(--fill-color);\n",
              "      border-right-color: var(--fill-color);\n",
              "    }\n",
              "    40% {\n",
              "      border-color: transparent;\n",
              "      border-right-color: var(--fill-color);\n",
              "      border-top-color: var(--fill-color);\n",
              "    }\n",
              "    60% {\n",
              "      border-color: transparent;\n",
              "      border-right-color: var(--fill-color);\n",
              "    }\n",
              "    80% {\n",
              "      border-color: transparent;\n",
              "      border-right-color: var(--fill-color);\n",
              "      border-bottom-color: var(--fill-color);\n",
              "    }\n",
              "    90% {\n",
              "      border-color: transparent;\n",
              "      border-bottom-color: var(--fill-color);\n",
              "    }\n",
              "  }\n",
              "</style>\n",
              "\n",
              "  <script>\n",
              "    async function quickchart(key) {\n",
              "      const quickchartButtonEl =\n",
              "        document.querySelector('#' + key + ' button');\n",
              "      quickchartButtonEl.disabled = true;  // To prevent multiple clicks.\n",
              "      quickchartButtonEl.classList.add('colab-df-spinner');\n",
              "      try {\n",
              "        const charts = await google.colab.kernel.invokeFunction(\n",
              "            'suggestCharts', [key], {});\n",
              "      } catch (error) {\n",
              "        console.error('Error during call to suggestCharts:', error);\n",
              "      }\n",
              "      quickchartButtonEl.classList.remove('colab-df-spinner');\n",
              "      quickchartButtonEl.classList.add('colab-df-quickchart-complete');\n",
              "    }\n",
              "    (() => {\n",
              "      let quickchartButtonEl =\n",
              "        document.querySelector('#df-88206fb8-4b11-49c3-bfd6-8c2720ec17ae button');\n",
              "      quickchartButtonEl.style.display =\n",
              "        google.colab.kernel.accessAllowed ? 'block' : 'none';\n",
              "    })();\n",
              "  </script>\n",
              "</div>\n",
              "    </div>\n",
              "  </div>\n"
            ],
            "text/plain": [
              "       ID               Name  Age Nationality  Overall  Potential  \\\n",
              "0  158023           L. Messi   31   Argentina       94         94   \n",
              "1   20801  Cristiano Ronaldo   33    Portugal       94         94   \n",
              "2  190871          Neymar Jr   26      Brazil       92         93   \n",
              "3  193080             De Gea   27       Spain       91         93   \n",
              "4  192985       K. De Bruyne   27     Belgium       91         92   \n",
              "\n",
              "                  Club     Value   Wage Preferred Foot  \\\n",
              "0         FC Barcelona  110500.0  565.0           Left   \n",
              "1             Juventus   77000.0  405.0          Right   \n",
              "2  Paris Saint-Germain  118500.0  290.0          Right   \n",
              "3    Manchester United   72000.0  260.0          Right   \n",
              "4      Manchester City  102000.0  355.0          Right   \n",
              "\n",
              "   International Reputation  Skill Moves Position  Joined  \\\n",
              "0                       5.0          4.0       RF    2004   \n",
              "1                       5.0          5.0       ST    2018   \n",
              "2                       5.0          5.0       LW    2017   \n",
              "3                       4.0          1.0       GK    2011   \n",
              "4                       4.0          4.0      RCM    2015   \n",
              "\n",
              "  Contract Valid Until    Height  Weight  Release Clause  \n",
              "0           2021-01-01  5.583333   159.0        226500.0  \n",
              "1           2022-01-01  6.166667   183.0        127100.0  \n",
              "2           2022-01-01  5.750000   150.0        228100.0  \n",
              "3           2020-01-01  6.333333   168.0        138600.0  \n",
              "4           2023-01-01  5.916667   154.0        196400.0  "
            ]
          },
          "execution_count": 85,
          "metadata": {},
          "output_type": "execute_result"
        }
      ],
      "source": [
        "pd_top = df.head(5)\n",
        "pd_top"
      ]
    },
    {
      "cell_type": "markdown",
      "metadata": {
        "id": "na9M2CO2JQ06"
      },
      "source": [
        "#### **DF Age Series Average**"
      ]
    },
    {
      "cell_type": "code",
      "execution_count": 56,
      "metadata": {
        "colab": {
          "base_uri": "https://localhost:8080/"
        },
        "id": "9bYoPgj0Edu2",
        "outputId": "4cf6d8c1-879d-4928-c041-a427a778e812"
      },
      "outputs": [
        {
          "data": {
            "text/plain": [
              "25.12"
            ]
          },
          "execution_count": 56,
          "metadata": {},
          "output_type": "execute_result"
        }
      ],
      "source": [
        "avg_age = df['Age'].mean().round(2)\n",
        "avg_age"
      ]
    },
    {
      "cell_type": "markdown",
      "metadata": {
        "id": "vJN50A3XJWDr"
      },
      "source": [
        "#### **DF Maximum Height & Player Name**"
      ]
    },
    {
      "cell_type": "code",
      "execution_count": 60,
      "metadata": {
        "colab": {
          "base_uri": "https://localhost:8080/"
        },
        "id": "9VyOmhYdEdrm",
        "outputId": "0265cf8b-7d28-4dbb-da2c-0f4e0b25cd69"
      },
      "outputs": [
        {
          "name": "stdout",
          "output_type": "stream",
          "text": [
            "The player with the greatest height is: T. Holý, with a hight of: 6.75\n"
          ]
        }
      ],
      "source": [
        "max_height = df['Height'].max()\n",
        "player_with_max_height = df[df['Height'] == max_height]['Name'].values[0]\n",
        "\n",
        "print(f\"The player with the greatest height is: {player_with_max_height}, with a hight of: {max_height}\")"
      ]
    },
    {
      "cell_type": "markdown",
      "metadata": {
        "id": "tx1D5b7SJdL5"
      },
      "source": [
        "#### **DF Smallest Weight & Players Names & Clubs Names**"
      ]
    },
    {
      "cell_type": "code",
      "execution_count": 72,
      "metadata": {
        "colab": {
          "base_uri": "https://localhost:8080/"
        },
        "id": "X5fs1HbwEdlf",
        "outputId": "439e5667-a49a-4885-c11a-d1785957bf05"
      },
      "outputs": [
        {
          "name": "stdout",
          "output_type": "stream",
          "text": [
            "The player(s) with the smallest weight of '110' are 'B. Al Mutairi' playing for 'Al Batin' and 'K. Yamaguchi' playing for 'Shonan Bellmare'.\n"
          ]
        }
      ],
      "source": [
        "min_weight = df['Weight'].min()\n",
        "player_with_min_weight = df[df['Weight'] == min_weight]\n",
        "player_names = player_with_min_weight['Name'].values\n",
        "player_clubs = player_with_min_weight['Club'].values\n",
        "\n",
        "player_info = \"\"\n",
        "for i in range(len(player_names)):\n",
        "    player_info += f\"'{player_names[i]}' playing for '{player_clubs[i]}'\"\n",
        "    if i < len(player_names) - 1:\n",
        "        player_info += \" and \"\n",
        "\n",
        "print(f\"The player(s) with the smallest weight of '{int(min_weight)}' are {player_info}.\")"
      ]
    },
    {
      "cell_type": "markdown",
      "metadata": {
        "id": "p7-Bm7oMLc2e"
      },
      "source": [
        "#### **Cristiano Ronaldo Position Retrieval**"
      ]
    },
    {
      "cell_type": "code",
      "execution_count": 76,
      "metadata": {
        "colab": {
          "base_uri": "https://localhost:8080/"
        },
        "id": "bOlZYWVNEdhV",
        "outputId": "ae1969b4-e5d2-40b1-e7a6-f448141d85e9"
      },
      "outputs": [
        {
          "name": "stdout",
          "output_type": "stream",
          "text": [
            "Cristiano Ronaldo's position is: ST\n"
          ]
        }
      ],
      "source": [
        "cristiano_position = df[df['Name'] == 'Cristiano Ronaldo']['Position'].values[0]\n",
        "print(f\"Cristiano Ronaldo's position is: {str(cristiano_position)}\")"
      ]
    },
    {
      "cell_type": "markdown",
      "metadata": {
        "id": "-Oab6tQJM4hN"
      },
      "source": [
        "#### **Average Value of all players per year**"
      ]
    },
    {
      "cell_type": "code",
      "execution_count": 87,
      "metadata": {
        "colab": {
          "base_uri": "https://localhost:8080/",
          "height": 206
        },
        "id": "w1pwfM5cEdd6",
        "outputId": "921a13f7-b48c-4a20-e424-355094e02111"
      },
      "outputs": [
        {
          "data": {
            "text/html": [
              "\n",
              "  <div id=\"df-2a3dbb3c-e386-406f-9780-0fd3f392032b\" class=\"colab-df-container\">\n",
              "    <div>\n",
              "<style scoped>\n",
              "    .dataframe tbody tr th:only-of-type {\n",
              "        vertical-align: middle;\n",
              "    }\n",
              "\n",
              "    .dataframe tbody tr th {\n",
              "        vertical-align: top;\n",
              "    }\n",
              "\n",
              "    .dataframe thead th {\n",
              "        text-align: right;\n",
              "    }\n",
              "</style>\n",
              "<table border=\"1\" class=\"dataframe\">\n",
              "  <thead>\n",
              "    <tr style=\"text-align: right;\">\n",
              "      <th></th>\n",
              "      <th>Year</th>\n",
              "      <th>Avg Value</th>\n",
              "    </tr>\n",
              "  </thead>\n",
              "  <tbody>\n",
              "    <tr>\n",
              "      <th>0</th>\n",
              "      <td>1991</td>\n",
              "      <td>160</td>\n",
              "    </tr>\n",
              "    <tr>\n",
              "      <th>1</th>\n",
              "      <td>1998</td>\n",
              "      <td>106</td>\n",
              "    </tr>\n",
              "    <tr>\n",
              "      <th>2</th>\n",
              "      <td>1999</td>\n",
              "      <td>40</td>\n",
              "    </tr>\n",
              "    <tr>\n",
              "      <th>3</th>\n",
              "      <td>2000</td>\n",
              "      <td>110</td>\n",
              "    </tr>\n",
              "    <tr>\n",
              "      <th>4</th>\n",
              "      <td>2001</td>\n",
              "      <td>237</td>\n",
              "    </tr>\n",
              "  </tbody>\n",
              "</table>\n",
              "</div>\n",
              "    <div class=\"colab-df-buttons\">\n",
              "\n",
              "  <div class=\"colab-df-container\">\n",
              "    <button class=\"colab-df-convert\" onclick=\"convertToInteractive('df-2a3dbb3c-e386-406f-9780-0fd3f392032b')\"\n",
              "            title=\"Convert this dataframe to an interactive table.\"\n",
              "            style=\"display:none;\">\n",
              "\n",
              "  <svg xmlns=\"http://www.w3.org/2000/svg\" height=\"24px\" viewBox=\"0 -960 960 960\">\n",
              "    <path d=\"M120-120v-720h720v720H120Zm60-500h600v-160H180v160Zm220 220h160v-160H400v160Zm0 220h160v-160H400v160ZM180-400h160v-160H180v160Zm440 0h160v-160H620v160ZM180-180h160v-160H180v160Zm440 0h160v-160H620v160Z\"/>\n",
              "  </svg>\n",
              "    </button>\n",
              "\n",
              "  <style>\n",
              "    .colab-df-container {\n",
              "      display:flex;\n",
              "      gap: 12px;\n",
              "    }\n",
              "\n",
              "    .colab-df-convert {\n",
              "      background-color: #E8F0FE;\n",
              "      border: none;\n",
              "      border-radius: 50%;\n",
              "      cursor: pointer;\n",
              "      display: none;\n",
              "      fill: #1967D2;\n",
              "      height: 32px;\n",
              "      padding: 0 0 0 0;\n",
              "      width: 32px;\n",
              "    }\n",
              "\n",
              "    .colab-df-convert:hover {\n",
              "      background-color: #E2EBFA;\n",
              "      box-shadow: 0px 1px 2px rgba(60, 64, 67, 0.3), 0px 1px 3px 1px rgba(60, 64, 67, 0.15);\n",
              "      fill: #174EA6;\n",
              "    }\n",
              "\n",
              "    .colab-df-buttons div {\n",
              "      margin-bottom: 4px;\n",
              "    }\n",
              "\n",
              "    [theme=dark] .colab-df-convert {\n",
              "      background-color: #3B4455;\n",
              "      fill: #D2E3FC;\n",
              "    }\n",
              "\n",
              "    [theme=dark] .colab-df-convert:hover {\n",
              "      background-color: #434B5C;\n",
              "      box-shadow: 0px 1px 3px 1px rgba(0, 0, 0, 0.15);\n",
              "      filter: drop-shadow(0px 1px 2px rgba(0, 0, 0, 0.3));\n",
              "      fill: #FFFFFF;\n",
              "    }\n",
              "  </style>\n",
              "\n",
              "    <script>\n",
              "      const buttonEl =\n",
              "        document.querySelector('#df-2a3dbb3c-e386-406f-9780-0fd3f392032b button.colab-df-convert');\n",
              "      buttonEl.style.display =\n",
              "        google.colab.kernel.accessAllowed ? 'block' : 'none';\n",
              "\n",
              "      async function convertToInteractive(key) {\n",
              "        const element = document.querySelector('#df-2a3dbb3c-e386-406f-9780-0fd3f392032b');\n",
              "        const dataTable =\n",
              "          await google.colab.kernel.invokeFunction('convertToInteractive',\n",
              "                                                    [key], {});\n",
              "        if (!dataTable) return;\n",
              "\n",
              "        const docLinkHtml = 'Like what you see? Visit the ' +\n",
              "          '<a target=\"_blank\" href=https://colab.research.google.com/notebooks/data_table.ipynb>data table notebook</a>'\n",
              "          + ' to learn more about interactive tables.';\n",
              "        element.innerHTML = '';\n",
              "        dataTable['output_type'] = 'display_data';\n",
              "        await google.colab.output.renderOutput(dataTable, element);\n",
              "        const docLink = document.createElement('div');\n",
              "        docLink.innerHTML = docLinkHtml;\n",
              "        element.appendChild(docLink);\n",
              "      }\n",
              "    </script>\n",
              "  </div>\n",
              "\n",
              "\n",
              "<div id=\"df-eedd6c67-f68f-4f9e-abc5-380a3b07ea9f\">\n",
              "  <button class=\"colab-df-quickchart\" onclick=\"quickchart('df-eedd6c67-f68f-4f9e-abc5-380a3b07ea9f')\"\n",
              "            title=\"Suggest charts.\"\n",
              "            style=\"display:none;\">\n",
              "\n",
              "<svg xmlns=\"http://www.w3.org/2000/svg\" height=\"24px\"viewBox=\"0 0 24 24\"\n",
              "     width=\"24px\">\n",
              "    <g>\n",
              "        <path d=\"M19 3H5c-1.1 0-2 .9-2 2v14c0 1.1.9 2 2 2h14c1.1 0 2-.9 2-2V5c0-1.1-.9-2-2-2zM9 17H7v-7h2v7zm4 0h-2V7h2v10zm4 0h-2v-4h2v4z\"/>\n",
              "    </g>\n",
              "</svg>\n",
              "  </button>\n",
              "\n",
              "<style>\n",
              "  .colab-df-quickchart {\n",
              "      --bg-color: #E8F0FE;\n",
              "      --fill-color: #1967D2;\n",
              "      --hover-bg-color: #E2EBFA;\n",
              "      --hover-fill-color: #174EA6;\n",
              "      --disabled-fill-color: #AAA;\n",
              "      --disabled-bg-color: #DDD;\n",
              "  }\n",
              "\n",
              "  [theme=dark] .colab-df-quickchart {\n",
              "      --bg-color: #3B4455;\n",
              "      --fill-color: #D2E3FC;\n",
              "      --hover-bg-color: #434B5C;\n",
              "      --hover-fill-color: #FFFFFF;\n",
              "      --disabled-bg-color: #3B4455;\n",
              "      --disabled-fill-color: #666;\n",
              "  }\n",
              "\n",
              "  .colab-df-quickchart {\n",
              "    background-color: var(--bg-color);\n",
              "    border: none;\n",
              "    border-radius: 50%;\n",
              "    cursor: pointer;\n",
              "    display: none;\n",
              "    fill: var(--fill-color);\n",
              "    height: 32px;\n",
              "    padding: 0;\n",
              "    width: 32px;\n",
              "  }\n",
              "\n",
              "  .colab-df-quickchart:hover {\n",
              "    background-color: var(--hover-bg-color);\n",
              "    box-shadow: 0 1px 2px rgba(60, 64, 67, 0.3), 0 1px 3px 1px rgba(60, 64, 67, 0.15);\n",
              "    fill: var(--button-hover-fill-color);\n",
              "  }\n",
              "\n",
              "  .colab-df-quickchart-complete:disabled,\n",
              "  .colab-df-quickchart-complete:disabled:hover {\n",
              "    background-color: var(--disabled-bg-color);\n",
              "    fill: var(--disabled-fill-color);\n",
              "    box-shadow: none;\n",
              "  }\n",
              "\n",
              "  .colab-df-spinner {\n",
              "    border: 2px solid var(--fill-color);\n",
              "    border-color: transparent;\n",
              "    border-bottom-color: var(--fill-color);\n",
              "    animation:\n",
              "      spin 1s steps(1) infinite;\n",
              "  }\n",
              "\n",
              "  @keyframes spin {\n",
              "    0% {\n",
              "      border-color: transparent;\n",
              "      border-bottom-color: var(--fill-color);\n",
              "      border-left-color: var(--fill-color);\n",
              "    }\n",
              "    20% {\n",
              "      border-color: transparent;\n",
              "      border-left-color: var(--fill-color);\n",
              "      border-top-color: var(--fill-color);\n",
              "    }\n",
              "    30% {\n",
              "      border-color: transparent;\n",
              "      border-left-color: var(--fill-color);\n",
              "      border-top-color: var(--fill-color);\n",
              "      border-right-color: var(--fill-color);\n",
              "    }\n",
              "    40% {\n",
              "      border-color: transparent;\n",
              "      border-right-color: var(--fill-color);\n",
              "      border-top-color: var(--fill-color);\n",
              "    }\n",
              "    60% {\n",
              "      border-color: transparent;\n",
              "      border-right-color: var(--fill-color);\n",
              "    }\n",
              "    80% {\n",
              "      border-color: transparent;\n",
              "      border-right-color: var(--fill-color);\n",
              "      border-bottom-color: var(--fill-color);\n",
              "    }\n",
              "    90% {\n",
              "      border-color: transparent;\n",
              "      border-bottom-color: var(--fill-color);\n",
              "    }\n",
              "  }\n",
              "</style>\n",
              "\n",
              "  <script>\n",
              "    async function quickchart(key) {\n",
              "      const quickchartButtonEl =\n",
              "        document.querySelector('#' + key + ' button');\n",
              "      quickchartButtonEl.disabled = true;  // To prevent multiple clicks.\n",
              "      quickchartButtonEl.classList.add('colab-df-spinner');\n",
              "      try {\n",
              "        const charts = await google.colab.kernel.invokeFunction(\n",
              "            'suggestCharts', [key], {});\n",
              "      } catch (error) {\n",
              "        console.error('Error during call to suggestCharts:', error);\n",
              "      }\n",
              "      quickchartButtonEl.classList.remove('colab-df-spinner');\n",
              "      quickchartButtonEl.classList.add('colab-df-quickchart-complete');\n",
              "    }\n",
              "    (() => {\n",
              "      let quickchartButtonEl =\n",
              "        document.querySelector('#df-eedd6c67-f68f-4f9e-abc5-380a3b07ea9f button');\n",
              "      quickchartButtonEl.style.display =\n",
              "        google.colab.kernel.accessAllowed ? 'block' : 'none';\n",
              "    })();\n",
              "  </script>\n",
              "</div>\n",
              "    </div>\n",
              "  </div>\n"
            ],
            "text/plain": [
              "   Year  Avg Value\n",
              "0  1991        160\n",
              "1  1998        106\n",
              "2  1999         40\n",
              "3  2000        110\n",
              "4  2001        237"
            ]
          },
          "execution_count": 87,
          "metadata": {},
          "output_type": "execute_result"
        }
      ],
      "source": [
        "df['Joined'] = df['Joined'].astype(str)\n",
        "average_value_per_year = df.groupby(df['Joined'].str[:])['Value'].mean().astype(int)\n",
        "average_value = pd.DataFrame({'Year': average_value_per_year.index, 'Avg Value': average_value_per_year.values})\n",
        "\n",
        "average_value.head(5)"
      ]
    },
    {
      "cell_type": "code",
      "execution_count": 90,
      "metadata": {
        "colab": {
          "base_uri": "https://localhost:8080/",
          "height": 507
        },
        "id": "IZCYNF32pXTT",
        "outputId": "7208baaa-87fd-4a7b-c2f6-988159569dfa"
      },
      "outputs": [
        {
          "data": {
            "image/png": "[encoded data removed]",
            "text/plain": [
              "<Figure size 800x500 with 1 Axes>"
            ]
          },
          "metadata": {},
          "output_type": "display_data"
        }
      ],
      "source": [
        "import pandas as pd\n",
        "import matplotlib.pyplot as plt\n",
        "\n",
        "# Create a line plot\n",
        "plt.figure(figsize=(8, 5))\n",
        "plt.plot(average_value['Year'], average_value['Avg Value'], marker='o', linestyle='-', color='b')\n",
        "\n",
        "# Customize the plot\n",
        "plt.title('Average Value per Year')\n",
        "plt.xlabel('Year')\n",
        "plt.ylabel('Average Value')\n",
        "plt.xticks(rotation=90)\n",
        "plt.grid(True, axis='y', linestyle='--', alpha=0.7)\n",
        "\n",
        "# Show the plot\n",
        "plt.tight_layout()\n",
        "plt.show()\n"
      ]
    },
    {
      "cell_type": "markdown",
      "metadata": {
        "id": "lPaMdmelPKJx"
      },
      "source": [
        "#### **Number of players for Each club**"
      ]
    },
    {
      "cell_type": "code",
      "execution_count": 91,
      "metadata": {
        "colab": {
          "base_uri": "https://localhost:8080/"
        },
        "id": "TVxL5C1KPJ-o",
        "outputId": "734b2237-9d44-4f8f-aa20-734ca2fa3c0a"
      },
      "outputs": [
        {
          "data": {
            "text/plain": [
              "FC Barcelona          274\n",
              "Valencia CF            33\n",
              "Fortuna Düsseldorf     33\n",
              "Cardiff City           33\n",
              "Rayo Vallecano         33\n",
              "Name: Club, dtype: int64"
            ]
          },
          "execution_count": 91,
          "metadata": {},
          "output_type": "execute_result"
        }
      ],
      "source": [
        "club_counts = df['Club'].value_counts().head(5)\n",
        "club_counts"
      ]
    },
    {
      "cell_type": "markdown",
      "metadata": {
        "id": "fFsEmkf4QUEE"
      },
      "source": [
        "#### **DF Unique Clubs**"
      ]
    },
    {
      "cell_type": "code",
      "execution_count": 101,
      "metadata": {
        "colab": {
          "base_uri": "https://localhost:8080/"
        },
        "id": "ITADy4cYPJ7_",
        "outputId": "8fb68add-8b19-4f7e-8db6-0ddf32bac766"
      },
      "outputs": [
        {
          "name": "stdout",
          "output_type": "stream",
          "text": [
            "Unique clubs using the len method with unique function are: 651\n",
            "Unique clubs using the nunique function are: 651\n"
          ]
        }
      ],
      "source": [
        "unique_clubs_count = len(df['Club'].unique())\n",
        "unique_clubs_countn = df['Club'].nunique()\n",
        "\n",
        "print(f\"Unique clubs using the len method with unique function are: {unique_clubs_count}\")\n",
        "print(f\"Unique clubs using the nunique function are: {unique_clubs_countn}\")"
      ]
    },
    {
      "cell_type": "markdown",
      "metadata": {
        "id": "F1GpTtr-RN_1"
      },
      "source": [
        "#### **Top 5 Common Positions**"
      ]
    },
    {
      "cell_type": "code",
      "execution_count": 111,
      "metadata": {
        "colab": {
          "base_uri": "https://localhost:8080/"
        },
        "id": "XZs6w8ejPJ2m",
        "outputId": "e242a5d5-1fd7-4cef-9726-61330f76b065"
      },
      "outputs": [
        {
          "name": "stdout",
          "output_type": "stream",
          "text": [
            "  Position  Count\n",
            "0       ST   2154\n",
            "1       GK   2027\n",
            "2       CB   1779\n",
            "3       CM   1395\n",
            "4       LB   1372\n"
          ]
        }
      ],
      "source": [
        "top_positions = df['Position'].value_counts().head(5).reset_index()\n",
        "top_positions.columns = ['Position', 'Count']\n",
        "\n",
        "print(top_positions)"
      ]
    },
    {
      "cell_type": "markdown",
      "metadata": {
        "id": "B62JbuS2TIDj"
      },
      "source": [
        "#### **Top 5 Common Nationalities**"
      ]
    },
    {
      "cell_type": "code",
      "execution_count": 117,
      "metadata": {
        "colab": {
          "base_uri": "https://localhost:8080/"
        },
        "id": "w-UWfNepRzyx",
        "outputId": "e9b7c9f1-65dc-4c21-b031-5aa709ec8e3c"
      },
      "outputs": [
        {
          "name": "stdout",
          "output_type": "stream",
          "text": [
            "Top 5 most common nationalities are:\n",
            "  Nationalities  Count\n",
            "0       England   1662\n",
            "1       Germany   1198\n",
            "2         Spain   1072\n",
            "3     Argentina    937\n",
            "4        France    914\n"
          ]
        }
      ],
      "source": [
        "top_nationalities = df['Nationality'].value_counts().head(5).reset_index()\n",
        "top_nationalities.columns = ['Nationalities', 'Count']\n",
        "print(f\"Top 5 most common nationalities are:\\n{top_nationalities}\")"
      ]
    },
    {
      "cell_type": "markdown",
      "metadata": {
        "id": "SiH1BUcITDNb"
      },
      "source": [
        "#### **Players with Egyptian Nationalities**"
      ]
    },
    {
      "cell_type": "code",
      "execution_count": 122,
      "metadata": {
        "colab": {
          "base_uri": "https://localhost:8080/"
        },
        "id": "0UsDEqpGRzsT",
        "outputId": "e9c443d5-3b50-45f5-a5e5-6360886483ec"
      },
      "outputs": [
        {
          "name": "stdout",
          "output_type": "stream",
          "text": [
            "Names of players with Egyptian nationality are:\n",
            "   index       Name\n",
            "0     26   M. Salah\n",
            "1    752  Trezeguet\n",
            "2    959  M. Elneny\n",
            "3   1517  A. Hegazi\n",
            "4   2241  A. Hassan\n"
          ]
        }
      ],
      "source": [
        "egyptian_players = df[df['Nationality'] == 'Egypt']['Name'].head(5).reset_index()\n",
        "print(f\"Names of players with Egyptian nationality are:\\n{egyptian_players}\")"
      ]
    },
    {
      "cell_type": "code",
      "execution_count": 128,
      "metadata": {
        "colab": {
          "base_uri": "https://localhost:8080/"
        },
        "id": "5n9wAM5hRzpb",
        "outputId": "a97eb970-9029-479d-8f12-586c6788407f"
      },
      "outputs": [
        {
          "name": "stdout",
          "output_type": "stream",
          "text": [
            "Players with Egyptian nationality are:\n",
            "1. M. Salah\n",
            "2. Trezeguet\n",
            "3. M. Elneny\n",
            "4. A. Hegazi\n",
            "5. A. Hassan\n"
          ]
        }
      ],
      "source": [
        "egyptian_players = df[df['Nationality'] == 'Egypt']['Name'].head(5)\n",
        "\n",
        "print(\"Players with Egyptian nationality are:\")\n",
        "for i, player_name in enumerate(egyptian_players, 1):\n",
        "    print(f\"{i}. {player_name}\")"
      ]
    },
    {
      "cell_type": "markdown",
      "metadata": {
        "id": "83TaUqDoU43D"
      },
      "source": [
        "#### **Players joined in 2018 with skill moves = 2**"
      ]
    },
    {
      "cell_type": "code",
      "execution_count": 93,
      "metadata": {
        "colab": {
          "base_uri": "https://localhost:8080/"
        },
        "id": "d7Bf2WvrRzlz",
        "outputId": "084073b2-c7fc-45ff-e17a-e8bf9e5a343f"
      },
      "outputs": [
        {
          "name": "stdout",
          "output_type": "stream",
          "text": [
            "Number of players who joined in 2018 with 2 in skill moves = 3295\n"
          ]
        }
      ],
      "source": [
        "df['Joined'] = df['Joined'].astype(str)\n",
        "p_2018_s_2 = df[(df['Joined'].str[:] == '2018') & (df['Skill Moves'] == 2)]\n",
        "p_2018_s_2 = len(p_2018_s_2)\n",
        "\n",
        "print(f\"Number of players who joined in 2018 with 2 in skill moves = {p_2018_s_2}\")"
      ]
    },
    {
      "cell_type": "markdown",
      "metadata": {
        "id": "7vnpX9k6U-aI"
      },
      "source": [
        "#### **Players whom name starts with letter = M or m**"
      ]
    },
    {
      "cell_type": "code",
      "execution_count": 98,
      "metadata": {
        "colab": {
          "base_uri": "https://localhost:8080/"
        },
        "id": "gEpKW95xPJzi",
        "outputId": "a56fff5c-f36c-4829-d48f-7aa7911bdbe9"
      },
      "outputs": [
        {
          "name": "stdout",
          "output_type": "stream",
          "text": [
            "Number of players whose names start with 'M' or 'm' = 1975 Players\n"
          ]
        }
      ],
      "source": [
        "players_with_m = df[df['Name'].str.lower().str.startswith('m', na=False)]\n",
        "num_players_with_m = len(players_with_m)\n",
        "\n",
        "print(f\"Number of players whose names start with 'M' or 'm' = {num_players_with_m} Players\")"
      ]
    },
    {
      "cell_type": "markdown",
      "metadata": {
        "id": "J3pouCYFVPcb"
      },
      "source": [
        "# **Advanced DF Mathimatics**"
      ]
    },
    {
      "cell_type": "markdown",
      "metadata": {
        "id": "F064_unkVVpe"
      },
      "source": [
        "#### **Correlation Between Reputation & Wage**"
      ]
    },
    {
      "cell_type": "code",
      "execution_count": 132,
      "metadata": {
        "colab": {
          "base_uri": "https://localhost:8080/"
        },
        "id": "Mybmj4mWEdbD",
        "outputId": "3179a99d-5b17-4107-bd3a-98b87add6bf6"
      },
      "outputs": [
        {
          "name": "stdout",
          "output_type": "stream",
          "text": [
            "Correlation between International Reputation and Wage: 0.67\n"
          ]
        }
      ],
      "source": [
        "correlation = df['International Reputation'].corr(df['Wage'])\n",
        "\n",
        "print(f\"Correlation between International Reputation and Wage: {correlation:.2f}\")"
      ]
    },
    {
      "cell_type": "markdown",
      "metadata": {
        "id": "x1TZ9Ul0VqUL"
      },
      "source": [
        "#### **Performing a Z_Test & T_Test Regarding Reputation & Wage**"
      ]
    },
    {
      "cell_type": "code",
      "execution_count": 100,
      "metadata": {
        "colab": {
          "base_uri": "https://localhost:8080/"
        },
        "id": "BDMtfCjyVNQx",
        "outputId": "66693120-24ae-442f-f251-c605c1328c75"
      },
      "outputs": [
        {
          "name": "stdout",
          "output_type": "stream",
          "text": [
            "Null Hypothesis: There is no significant difference in the wages of players based on their international reputation.\n",
            "Alternative Hypothesis: There is a significant difference in the wages of players based on their international reputation.\n",
            "Significance Level (alpha α): 0.05\n",
            "\n",
            "T-Test Statistics: 29.85 and p-value: 0.00\n",
            "Z-Test Statistics: 84.35 and p-value: 0.00\n",
            "\n",
            "Reject the Null Hypothesis.\n",
            "There is a significant difference in the wages of players based on their international reputation.\n"
          ]
        }
      ],
      "source": [
        "from scipy import stats\n",
        "from statsmodels.stats.weightstats import ztest\n",
        "\n",
        "group1 = df[df['International Reputation'] > df['International Reputation'].mean()]['Wage']\n",
        "group2 = df[df['International Reputation'] <= df['International Reputation'].mean()]['Wage']\n",
        "\n",
        "# Performing the tests with unequal variances (t-test & z-test)\n",
        "t_statistic, t_p_value = stats.ttest_ind(group1, group2, equal_var=False)\n",
        "z_statistic, z_p_value = ztest(group1, group2)\n",
        "\n",
        "# Define hypotheses & significance level (alpha)\n",
        "alpha = 0.05\n",
        "null_hypothesis = \"There is no significant difference in the wages of players based on their international reputation.\"\n",
        "alternative_hypothesis = \"There is a significant difference in the wages of players based on their international reputation.\"\n",
        "\n",
        "# Test results and whether to accept or reject the null hypothesis\n",
        "print(f\"Null Hypothesis: {null_hypothesis}\")\n",
        "print(f\"Alternative Hypothesis: {alternative_hypothesis}\")\n",
        "print(f\"Significance Level (alpha α): {alpha}\")\n",
        "\n",
        "# Test statistics and p-values\n",
        "print(f\"\\nT-Test Statistics: {t_statistic:.2f} and p-value: {t_p_value:.2f}\")\n",
        "print(f\"Z-Test Statistics: {z_statistic:.2f} and p-value: {z_p_value:.2f}\")\n",
        "\n",
        "# Determine whether to accept or reject the null hypothesis\n",
        "if t_p_value < alpha or z_p_value < alpha:\n",
        "    print(\"\\nReject the Null Hypothesis.\")\n",
        "    print(\"There is a significant difference in the wages of players based on their international reputation.\")\n",
        "else:\n",
        "    print(\"\\nAccept the Null Hypothesis.\")\n",
        "    print(\"There is no significant difference in the wages of players based on their international reputation.\")"
      ]
    },
    {
      "cell_type": "markdown",
      "metadata": {},
      "source": [
        "# **Machine Learning Model**"
      ]
    },
    {
      "cell_type": "markdown",
      "metadata": {},
      "source": [
        "#### Linear Regression Technique"
      ]
    },
    {
      "cell_type": "code",
      "execution_count": 55,
      "metadata": {},
      "outputs": [
        {
          "name": "stdout",
          "output_type": "stream",
          "text": [
            "Mean Absolute Error is 477.37\n",
            "Mean Squared Error is 1183504.14\n",
            "Root Mean Squared Error is 1087.89\n",
            "\n",
            "Model Accuracy is 97.0%\n"
          ]
        }
      ],
      "source": [
        "import pandas as pd\n",
        "from sklearn.model_selection import train_test_split\n",
        "from sklearn.preprocessing import StandardScaler\n",
        "from sklearn.linear_model import LinearRegression\n",
        "from sklearn.metrics import mean_absolute_error, mean_squared_error, r2_score\n",
        "import numpy as np\n",
        "import pickle\n",
        "\n",
        "df = pd.read_csv(\"fifa_dataset.csv\")\n",
        "\n",
        "data_cleaned = df.dropna(subset=['Value'])\n",
        "\n",
        "features = data_cleaned.drop(columns=['ID', 'Name', 'Nationality', 'Club', 'Preferred Foot', 'Position', 'Contract Valid Until', 'Value', 'Wage'])\n",
        "target = data_cleaned['Value']\n",
        "features = features.fillna(features.median())\n",
        "\n",
        "X_train, X_test, y_train, y_test = train_test_split(features, target, test_size=0.2, random_state=42)\n",
        "\n",
        "scaler = StandardScaler()\n",
        "X_train_scaled = scaler.fit_transform(X_train)\n",
        "X_test_scaled = scaler.transform(X_test)\n",
        "\n",
        "model = LinearRegression()\n",
        "model.fit(X_train_scaled, y_train)\n",
        "predictions = model.predict(X_test_scaled)\n",
        "\n",
        "with open('scaler_fifa.pkl', 'wb') as f:\n",
        "    pickle.dump(scaler, f)\n",
        "\n",
        "linear_fifa_model = 'linear_fifa_model.pkl'\n",
        "with open(linear_fifa_model, 'wb') as f:\n",
        "    pickle.dump(model, f)\n",
        "\n",
        "mae = round(mean_absolute_error(y_test, predictions), 2)\n",
        "mse = round(mean_squared_error(y_test, predictions), 2)\n",
        "rmse = round(np.sqrt(mse), 2)\n",
        "r2 = round(r2_score(y_test, predictions), 2)*100\n",
        "\n",
        "print(f\"Mean Absolute Error is {mae}\\nMean Squared Error is {mse}\\nRoot Mean Squared Error is {rmse}\")\n",
        "print(f\"\\nModel Accuracy is {r2}%\")"
      ]
    },
    {
      "cell_type": "code",
      "execution_count": 59,
      "metadata": {},
      "outputs": [
        {
          "data": {
            "image/png": "[encoded data removed]",
            "text/plain": [
              "<Figure size 1000x600 with 1 Axes>"
            ]
          },
          "metadata": {},
          "output_type": "display_data"
        },
        {
          "data": {
            "image/png": "[encoded data removed]",
            "text/plain": [
              "<Figure size 1000x600 with 1 Axes>"
            ]
          },
          "metadata": {},
          "output_type": "display_data"
        }
      ],
      "source": [
        "import matplotlib.pyplot as plt\n",
        "import seaborn as sns\n",
        "\n",
        "# Scatter plot of Actual vs. Predicted values\n",
        "plt.figure(figsize=(10, 6))\n",
        "sns.scatterplot(x=y_test, y=predictions)\n",
        "plt.title('Actual vs. Predicted Values')\n",
        "plt.xlabel('Actual Values')\n",
        "plt.ylabel('Predicted Values')\n",
        "plt.plot([y_test.min(), y_test.max()], [y_test.min(), y_test.max()], 'k--', lw=2)\n",
        "plt.show()\n",
        "\n",
        "# Residual plot\n",
        "residuals = y_test - predictions\n",
        "plt.figure(figsize=(10, 6))\n",
        "sns.scatterplot(x=predictions, y=residuals)\n",
        "plt.title('Residuals of Predictions')\n",
        "plt.xlabel('Predicted Values')\n",
        "plt.ylabel('Residuals')\n",
        "plt.axhline(y=0, color='k', linestyle='--')\n",
        "plt.show()"
      ]
    },
    {
      "cell_type": "code",
      "execution_count": 61,
      "metadata": {},
      "outputs": [
        {
          "name": "stdout",
          "output_type": "stream",
          "text": [
            "The prediction for the first column is 110780 and the actuall value is 110500 which is relatively close\n"
          ]
        }
      ],
      "source": [
        "import pickle\n",
        "import warnings\n",
        "\n",
        "warnings.filterwarnings('ignore')\n",
        "\n",
        "# Loading the Linear Regression model (Prediction Is Way Better Than Random Forest)\n",
        "with open(\"linear_fifa_model.pkl\", 'rb') as file:\n",
        "    linear_fifa_model = pickle.load(file)\n",
        "\n",
        "row_num = 0\n",
        "\n",
        "# Making a prediction for the first row of our dataset as an example \n",
        "features_scaled = scaler.transform(features.iloc[row_num].values.reshape(1, -1))\n",
        "\n",
        "# Making a prediction with the model\n",
        "predicted_value = int(linear_fifa_model.predict(features_scaled))\n",
        "actual_value = int(target.iloc[row_num])\n",
        "\n",
        "print(f\"The prediction for the first column is {predicted_value} and the actuall value is {actual_value} which is relatively close\")"
      ]
    },
    {
      "cell_type": "markdown",
      "metadata": {},
      "source": [
        "# **Streamlit Application**"
      ]
    },
    {
      "cell_type": "code",
      "execution_count": null,
      "metadata": {},
      "outputs": [],
      "source": [
        "! streamlit run main.py"
      ]
    }
  ],
  "metadata": {
    "colab": {
      "collapsed_sections": [
        "ifRssDRSAvdl",
        "NRN1lfWeAdja",
        "gn-uce1-Iwgy",
        "lolG6RRSZv93",
        "_i-pIDqsI7IO",
        "Nwe3jzzvJJrM",
        "na9M2CO2JQ06",
        "vJN50A3XJWDr",
        "tx1D5b7SJdL5",
        "p7-Bm7oMLc2e",
        "-Oab6tQJM4hN",
        "lPaMdmelPKJx",
        "fFsEmkf4QUEE",
        "F1GpTtr-RN_1",
        "B62JbuS2TIDj",
        "SiH1BUcITDNb",
        "83TaUqDoU43D",
        "7vnpX9k6U-aI",
        "F064_unkVVpe"
      ],
      "provenance": []
    },
    "kernelspec": {
      "display_name": "Python 3",
      "name": "python3"
    },
    "language_info": {
      "codemirror_mode": {
        "name": "ipython",
        "version": 3
      },
      "file_extension": ".py",
      "mimetype": "text/x-python",
      "name": "python",
      "nbconvert_exporter": "python",
      "pygments_lexer": "ipython3",
      "version": "3.12.2"
    }
  },
  "nbformat": 4,
  "nbformat_minor": 0
}
